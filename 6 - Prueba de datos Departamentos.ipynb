{
 "cells": [
  {
   "cell_type": "markdown",
   "metadata": {},
   "source": [
    "# Desafío N° 2 \n",
    "## 6 - Separando datos de prueba del Dataset Properati.\n",
    "\n",
    "### Grupo N° 5\n",
    "\n",
    "    Integrantes:\n",
    "                Arangue, Marcelo            \n",
    "                Bardauil, Joaquín              \n",
    "                Marquez, Hector              \n",
    "                Neustadt, Alejandro       \n",
    "                Pero, Felipe                                    \n"
   ]
  },
  {
   "cell_type": "markdown",
   "metadata": {},
   "source": [
    "## Obtención de los datos y librerías necesarias."
   ]
  },
  {
   "cell_type": "code",
   "execution_count": 1,
   "metadata": {},
   "outputs": [],
   "source": [
    "# Importamos las librerías que usaremos durante la limpieza:\n",
    "import numpy as np\n",
    "import pandas as pd\n",
    "import seaborn as sns\n",
    "import matplotlib.pyplot as plt\n",
    "%matplotlib inline\n",
    "import re\n",
    "import scipy.stats as sts\n",
    "from bokeh.plotting import figure\n",
    "from bokeh.io import output_notebook, show\n",
    "from IPython.display import display"
   ]
  },
  {
   "cell_type": "code",
   "execution_count": 2,
   "metadata": {},
   "outputs": [],
   "source": [
    "# Importamos el dataset y nombramos al objeto \"df_prueba\"\n",
    "df_prueba = pd.read_csv(\"prueba.csv\")"
   ]
  },
  {
   "cell_type": "markdown",
   "metadata": {},
   "source": [
    "## 1. Relevamiento inicial y diagnóstico del estado del dataset"
   ]
  },
  {
   "cell_type": "code",
   "execution_count": 3,
   "metadata": {},
   "outputs": [
    {
     "data": {
      "text/plain": [
       "(810, 23)"
      ]
     },
     "execution_count": 3,
     "metadata": {},
     "output_type": "execute_result"
    }
   ],
   "source": [
    "# Conocemos cual es el tamaño del dataset\n",
    "df_prueba.shape"
   ]
  },
  {
   "cell_type": "code",
   "execution_count": 4,
   "metadata": {},
   "outputs": [],
   "source": [
    "df_prueba.surface_covered_in_m2 = df_prueba.surface_total_in_m2"
   ]
  },
  {
   "cell_type": "markdown",
   "metadata": {},
   "source": [
    "Este ultimo chequeo me ayuda a ver que coinciden los blancos en precio y precios por sup"
   ]
  },
  {
   "cell_type": "code",
   "execution_count": 5,
   "metadata": {},
   "outputs": [
    {
     "data": {
      "text/plain": [
       "722"
      ]
     },
     "execution_count": 5,
     "metadata": {},
     "output_type": "execute_result"
    }
   ],
   "source": [
    "# Como considero valida la columna 'price_aprox_usd', con ella y las superficies recalculo 'price_per_m2', previo un chequeo\n",
    "# primero la hago contra m2 cubiertos y luego sobre sup total.\n",
    "# En el mejor de los casos, cuantos registros podre completar bien en precio/m2 = 90213\n",
    "con_precio = (df_prueba.price_aprox_usd > 0) & (df_prueba.surface_covered_in_m2 > 0) &\\\n",
    "         (df_prueba.surface_total_in_m2 > 0) & (df_prueba.surface_total_in_m2 >= df_prueba.surface_covered_in_m2)\n",
    "precio_m2c = df_prueba.price_aprox_usd[con_precio] / df_prueba.surface_covered_in_m2[con_precio]\n",
    "precio_m2t = df_prueba.price_aprox_usd[con_precio] / df_prueba.surface_total_in_m2[con_precio]\n",
    "con_precio.sum()"
   ]
  },
  {
   "cell_type": "markdown",
   "metadata": {},
   "source": [
    "Las coincidencias son sobre superficie total, en 'price_usd_per_m2' es el valor dolar sobre superficie total.\n",
    "A 'price_per_m2', lo puedo recalcular como esta o como 'price_usd_per_m2_cubierto', a definir, en precio coinciden mas las superficies cubiertas"
   ]
  },
  {
   "cell_type": "code",
   "execution_count": 6,
   "metadata": {},
   "outputs": [],
   "source": [
    "# Calculo y reemplazo valores\n",
    "# Mas adelante renombraria a 'price_per_m2' en 'price_usd_per_m2_cov'\n",
    "df_prueba.price_per_m2 = precio_m2c\n",
    "# Mas adelante renombraria a 'price_usd_per_m2' en 'price_usd_per_m2_tot'\n",
    "df_prueba.price_usd_per_m2 = precio_m2t"
   ]
  },
  {
   "cell_type": "code",
   "execution_count": 7,
   "metadata": {
    "scrolled": true
   },
   "outputs": [
    {
     "data": {
      "text/plain": [
       "house        565\n",
       "apartment    169\n",
       "store         40\n",
       "PH            36\n",
       "Name: property_type, dtype: int64"
      ]
     },
     "execution_count": 7,
     "metadata": {},
     "output_type": "execute_result"
    }
   ],
   "source": [
    "df_prueba.property_type.value_counts()"
   ]
  },
  {
   "cell_type": "code",
   "execution_count": 8,
   "metadata": {},
   "outputs": [],
   "source": [
    "tabla_tipo_prop = df_prueba.groupby('property_type')['price_aprox_usd', 'surface_total_in_m2', 'price_usd_per_m2',\\\n",
    "                                                         'expenses'].mean()"
   ]
  },
  {
   "cell_type": "code",
   "execution_count": 9,
   "metadata": {
    "scrolled": true
   },
   "outputs": [
    {
     "data": {
      "text/html": [
       "<div>\n",
       "<style scoped>\n",
       "    .dataframe tbody tr th:only-of-type {\n",
       "        vertical-align: middle;\n",
       "    }\n",
       "\n",
       "    .dataframe tbody tr th {\n",
       "        vertical-align: top;\n",
       "    }\n",
       "\n",
       "    .dataframe thead th {\n",
       "        text-align: right;\n",
       "    }\n",
       "</style>\n",
       "<table border=\"1\" class=\"dataframe\">\n",
       "  <thead>\n",
       "    <tr style=\"text-align: right;\">\n",
       "      <th></th>\n",
       "      <th>price_aprox_usd</th>\n",
       "      <th>surface_total_in_m2</th>\n",
       "      <th>price_usd_per_m2</th>\n",
       "      <th>expenses</th>\n",
       "    </tr>\n",
       "    <tr>\n",
       "      <th>property_type</th>\n",
       "      <th></th>\n",
       "      <th></th>\n",
       "      <th></th>\n",
       "      <th></th>\n",
       "    </tr>\n",
       "  </thead>\n",
       "  <tbody>\n",
       "    <tr>\n",
       "      <th>PH</th>\n",
       "      <td>154000.0</td>\n",
       "      <td>72.4</td>\n",
       "      <td>3493.3</td>\n",
       "      <td>4000.0</td>\n",
       "    </tr>\n",
       "    <tr>\n",
       "      <th>apartment</th>\n",
       "      <td>208071.9</td>\n",
       "      <td>71.2</td>\n",
       "      <td>5261.7</td>\n",
       "      <td>2575.5</td>\n",
       "    </tr>\n",
       "    <tr>\n",
       "      <th>house</th>\n",
       "      <td>334659.3</td>\n",
       "      <td>172.9</td>\n",
       "      <td>3071.3</td>\n",
       "      <td>28040.3</td>\n",
       "    </tr>\n",
       "    <tr>\n",
       "      <th>store</th>\n",
       "      <td>901155.4</td>\n",
       "      <td>482.7</td>\n",
       "      <td>2868.6</td>\n",
       "      <td>630.8</td>\n",
       "    </tr>\n",
       "  </tbody>\n",
       "</table>\n",
       "</div>"
      ],
      "text/plain": [
       "               price_aprox_usd  surface_total_in_m2  price_usd_per_m2  \\\n",
       "property_type                                                           \n",
       "PH                    154000.0                 72.4            3493.3   \n",
       "apartment             208071.9                 71.2            5261.7   \n",
       "house                 334659.3                172.9            3071.3   \n",
       "store                 901155.4                482.7            2868.6   \n",
       "\n",
       "               expenses  \n",
       "property_type            \n",
       "PH               4000.0  \n",
       "apartment        2575.5  \n",
       "house           28040.3  \n",
       "store             630.8  "
      ]
     },
     "execution_count": 9,
     "metadata": {},
     "output_type": "execute_result"
    }
   ],
   "source": [
    "tabla_tipo_prop.round(1)"
   ]
  },
  {
   "cell_type": "markdown",
   "metadata": {},
   "source": [
    "### Extracciones de la columna description"
   ]
  },
  {
   "cell_type": "markdown",
   "metadata": {},
   "source": [
    "Aplicamos expresiones regulares para extraer información relevante de la columna ´description´"
   ]
  },
  {
   "cell_type": "code",
   "execution_count": 10,
   "metadata": {},
   "outputs": [
    {
     "name": "stderr",
     "output_type": "stream",
     "text": [
      "C:\\Users\\aneustadt\\AppData\\Local\\Continuum\\anaconda3\\lib\\site-packages\\ipykernel_launcher.py:5: UserWarning: This pattern has match groups. To actually get the groups, use str.extract.\n",
      "  \"\"\"\n",
      "C:\\Users\\aneustadt\\AppData\\Local\\Continuum\\anaconda3\\lib\\site-packages\\ipykernel_launcher.py:6: UserWarning: This pattern has match groups. To actually get the groups, use str.extract.\n",
      "  \n",
      "C:\\Users\\aneustadt\\AppData\\Local\\Continuum\\anaconda3\\lib\\site-packages\\ipykernel_launcher.py:7: UserWarning: This pattern has match groups. To actually get the groups, use str.extract.\n",
      "  import sys\n",
      "C:\\Users\\aneustadt\\AppData\\Local\\Continuum\\anaconda3\\lib\\site-packages\\ipykernel_launcher.py:8: UserWarning: This pattern has match groups. To actually get the groups, use str.extract.\n",
      "  \n",
      "C:\\Users\\aneustadt\\AppData\\Local\\Continuum\\anaconda3\\lib\\site-packages\\ipykernel_launcher.py:9: UserWarning: This pattern has match groups. To actually get the groups, use str.extract.\n",
      "  if __name__ == '__main__':\n",
      "C:\\Users\\aneustadt\\AppData\\Local\\Continuum\\anaconda3\\lib\\site-packages\\ipykernel_launcher.py:10: UserWarning: This pattern has match groups. To actually get the groups, use str.extract.\n",
      "  # Remove the CWD from sys.path while we load stuff.\n",
      "C:\\Users\\aneustadt\\AppData\\Local\\Continuum\\anaconda3\\lib\\site-packages\\ipykernel_launcher.py:11: UserWarning: This pattern has match groups. To actually get the groups, use str.extract.\n",
      "  # This is added back by InteractiveShellApp.init_path()\n",
      "C:\\Users\\aneustadt\\AppData\\Local\\Continuum\\anaconda3\\lib\\site-packages\\ipykernel_launcher.py:12: UserWarning: This pattern has match groups. To actually get the groups, use str.extract.\n",
      "  if sys.path[0] == '':\n",
      "C:\\Users\\aneustadt\\AppData\\Local\\Continuum\\anaconda3\\lib\\site-packages\\ipykernel_launcher.py:13: UserWarning: This pattern has match groups. To actually get the groups, use str.extract.\n",
      "  del sys.path[0]\n",
      "C:\\Users\\aneustadt\\AppData\\Local\\Continuum\\anaconda3\\lib\\site-packages\\ipykernel_launcher.py:14: UserWarning: This pattern has match groups. To actually get the groups, use str.extract.\n",
      "  \n",
      "C:\\Users\\aneustadt\\AppData\\Local\\Continuum\\anaconda3\\lib\\site-packages\\ipykernel_launcher.py:15: UserWarning: This pattern has match groups. To actually get the groups, use str.extract.\n",
      "  from ipykernel import kernelapp as app\n"
     ]
    }
   ],
   "source": [
    "df_ronul = df_prueba.loc[df_prueba['rooms'].isnull()]\n",
    "\n",
    "df_ronul_descripnotnul = df_ronul.loc[df_ronul[\"description\"].notnull()]\n",
    "\n",
    "MONOAMBIENTE = df_ronul_descripnotnul[df_ronul_descripnotnul[\"description\"].str.contains(r\"(MONOAMBIENTE|MONO$)\", flags=re.I, regex=True)]\n",
    "UN_AMBIENTE = df_ronul_descripnotnul[df_ronul_descripnotnul[\"description\"].str.contains(r\"(1|UN) (AMB|AMBIENTE)\", regex=True)]\n",
    "DOS_AMBIENTES = df_ronul_descripnotnul[df_ronul_descripnotnul[\"description\"].str.contains(r\"(2|DOS) (AMB|AMBIENTES)\", flags=re.I, regex=True)]\n",
    "TRES_AMBIENTES = df_ronul_descripnotnul[df_ronul_descripnotnul[\"description\"].str.contains(r\"(3|TRES) (AMB|AMBIENTES)\",flags=re.I, regex=True)]\n",
    "CUATRO_AMBIENTES = df_ronul_descripnotnul[df_ronul_descripnotnul[\"description\"].str.contains(r\"(4|CUATRO) (AMB|AMBIENTES)\",flags=re.I, regex=True)]\n",
    "CINCO_AMBIENTES = df_ronul_descripnotnul[df_ronul_descripnotnul[\"description\"].str.contains(r\"(5|CINCO) (AMB|AMBIENTES)\", flags=re.I, regex=True)]\n",
    "SEIS_AMBIENTES = df_ronul_descripnotnul[df_ronul_descripnotnul[\"description\"].str.contains(r\"(6|SEIS) (AMB|AMBIENTES)\", flags=re.I, regex=True)]\n",
    "SIETE_AMBIENTES = df_ronul_descripnotnul[df_ronul_descripnotnul[\"description\"].str.contains(r\"(7|SIETE) (AMB|AMBIENTES)\",flags=re.I, regex=True)]\n",
    "OCHO_AMBIENTES = df_ronul_descripnotnul[df_ronul_descripnotnul[\"description\"].str.contains(r\"(8|OCHO) (AMB|AMBIENTES)\", flags=re.I, regex=True)]\n",
    "NUEVE_AMBIENTES = df_ronul_descripnotnul[df_ronul_descripnotnul[\"description\"].str.contains(r\"(9|NUEVE) (AMB|AMBIENTES)\",flags=re.I, regex=True)]\n",
    "DIEZ_AMBIENTES = df_ronul_descripnotnul[df_ronul_descripnotnul[\"description\"].str.contains(r\"(10|DIEZ) (AMB|AMBIENTES)\", flags=re.I, regex=True)]\n",
    "\n",
    "#IMPUTACION\n",
    "\n",
    "indexes = list(MONOAMBIENTE.index)\n",
    "indexesa = list(UN_AMBIENTE.index)\n",
    "indexesb = list(DOS_AMBIENTES.index)\n",
    "indexesc = list(TRES_AMBIENTES.index)\n",
    "indexesd = list(CUATRO_AMBIENTES.index)\n",
    "indexese = list(CINCO_AMBIENTES.index)\n",
    "indexesf = list(SEIS_AMBIENTES.index)\n",
    "indexesg = list(SIETE_AMBIENTES.index)\n",
    "indexesh = list(OCHO_AMBIENTES.index)\n",
    "indexesi = list(NUEVE_AMBIENTES.index)\n",
    "indexesj = list(DIEZ_AMBIENTES.index)\n",
    "\n",
    "df_prueba.loc[indexes,'rooms'] = 1\n",
    "df_prueba.loc[indexesa,'rooms'] = 1\n",
    "df_prueba.loc[indexesb,'rooms'] = 1\n",
    "df_prueba.loc[indexesc,'rooms'] = 2\n",
    "df_prueba.loc[indexesd,'rooms'] = 3\n",
    "df_prueba.loc[indexese,'rooms'] = 4\n",
    "df_prueba.loc[indexesf,'rooms'] = 5\n",
    "df_prueba.loc[indexesg,'rooms'] = 6\n",
    "df_prueba.loc[indexesh,'rooms'] = 7\n",
    "df_prueba.loc[indexesi,'rooms'] = 8\n",
    "df_prueba.loc[indexesj,'rooms'] = 9"
   ]
  },
  {
   "cell_type": "code",
   "execution_count": 11,
   "metadata": {},
   "outputs": [
    {
     "name": "stderr",
     "output_type": "stream",
     "text": [
      "C:\\Users\\aneustadt\\AppData\\Local\\Continuum\\anaconda3\\lib\\site-packages\\ipykernel_launcher.py:5: UserWarning: This pattern has match groups. To actually get the groups, use str.extract.\n",
      "  \"\"\"\n",
      "C:\\Users\\aneustadt\\AppData\\Local\\Continuum\\anaconda3\\lib\\site-packages\\ipykernel_launcher.py:6: UserWarning: This pattern has match groups. To actually get the groups, use str.extract.\n",
      "  \n",
      "C:\\Users\\aneustadt\\AppData\\Local\\Continuum\\anaconda3\\lib\\site-packages\\ipykernel_launcher.py:7: UserWarning: This pattern has match groups. To actually get the groups, use str.extract.\n",
      "  import sys\n",
      "C:\\Users\\aneustadt\\AppData\\Local\\Continuum\\anaconda3\\lib\\site-packages\\ipykernel_launcher.py:8: UserWarning: This pattern has match groups. To actually get the groups, use str.extract.\n",
      "  \n",
      "C:\\Users\\aneustadt\\AppData\\Local\\Continuum\\anaconda3\\lib\\site-packages\\ipykernel_launcher.py:9: UserWarning: This pattern has match groups. To actually get the groups, use str.extract.\n",
      "  if __name__ == '__main__':\n",
      "C:\\Users\\aneustadt\\AppData\\Local\\Continuum\\anaconda3\\lib\\site-packages\\ipykernel_launcher.py:10: UserWarning: This pattern has match groups. To actually get the groups, use str.extract.\n",
      "  # Remove the CWD from sys.path while we load stuff.\n",
      "C:\\Users\\aneustadt\\AppData\\Local\\Continuum\\anaconda3\\lib\\site-packages\\ipykernel_launcher.py:11: UserWarning: This pattern has match groups. To actually get the groups, use str.extract.\n",
      "  # This is added back by InteractiveShellApp.init_path()\n",
      "C:\\Users\\aneustadt\\AppData\\Local\\Continuum\\anaconda3\\lib\\site-packages\\ipykernel_launcher.py:12: UserWarning: This pattern has match groups. To actually get the groups, use str.extract.\n",
      "  if sys.path[0] == '':\n",
      "C:\\Users\\aneustadt\\AppData\\Local\\Continuum\\anaconda3\\lib\\site-packages\\ipykernel_launcher.py:13: UserWarning: This pattern has match groups. To actually get the groups, use str.extract.\n",
      "  del sys.path[0]\n"
     ]
    }
   ],
   "source": [
    "df_fonul = df_prueba.loc[df_prueba['floor'].isnull()]\n",
    "df_fonul_descripnotnul = df_fonul.loc[df_fonul[\"description\"].notnull()]\n",
    "\n",
    "planta_alta = df_fonul_descripnotnul[df_fonul_descripnotnul[\"description\"].str.contains(r\"planta alta\",flags=re.I, regex=True)]\n",
    "dospisos = df_fonul_descripnotnul[df_fonul_descripnotnul[\"description\"].str.contains(r\"(2.|2|dos) (piso|pisos|plantas)\",flags=re.I, regex=True)]\n",
    "tercerpiso = df_fonul_descripnotnul[df_fonul_descripnotnul[\"description\"].str.contains(r\"(3.|3) piso\",flags=re.I, regex=True)]\n",
    "cuartopiso = df_fonul_descripnotnul[df_fonul_descripnotnul[\"description\"].str.contains(r\"(4.|4) piso\",flags=re.I, regex=True)]\n",
    "quintopiso = df_fonul_descripnotnul[df_fonul_descripnotnul[\"description\"].str.contains(r\"(5.|5) piso\",flags=re.I, regex=True)]\n",
    "sextopiso = df_fonul_descripnotnul[df_fonul_descripnotnul[\"description\"].str.contains(r\"(6.|6) piso\",flags=re.I, regex=True)]\n",
    "septimopiso = df_fonul_descripnotnul[df_fonul_descripnotnul[\"description\"].str.contains(r\"(7.|7) piso\",flags=re.I, regex=True)]\n",
    "octavopiso = df_fonul_descripnotnul[df_fonul_descripnotnul[\"description\"].str.contains(r\"(8.|8) piso\",flags=re.I, regex=True)]\n",
    "novenopiso = df_fonul_descripnotnul[df_fonul_descripnotnul[\"description\"].str.contains(r\"(9.|9) piso\",flags=re.I, regex=True)]\n",
    "decimopiso = df_fonul_descripnotnul[df_fonul_descripnotnul[\"description\"].str.contains(r\"(10.|10) piso\",flags=re.I, regex=True)]\n",
    "\n",
    "# IMPUTACION\n",
    "indexes_plantaalta = list(planta_alta.index)\n",
    "indexes_dospisos = list(dospisos.index)\n",
    "indexes_tercerpiso = list(tercerpiso.index)\n",
    "indexes_cuartopiso = list(cuartopiso.index)\n",
    "indexes_quintopiso = list(quintopiso.index)\n",
    "indexes_sextopiso = list(sextopiso.index)\n",
    "indexes_septimopiso = list(septimopiso.index)\n",
    "indexes_octavopiso = list(octavopiso.index)\n",
    "indexes_novenopiso = list(novenopiso.index)\n",
    "indexes_decimopiso = list(decimopiso.index)\n",
    "\n",
    "df_prueba.loc[indexes_plantaalta,'floor'] = 2\n",
    "df_prueba.loc[indexes_dospisos,'floor'] = 2\n",
    "df_prueba.loc[indexes_tercerpiso,'floor'] = 3\n",
    "df_prueba.loc[indexes_cuartopiso,'floor'] = 4\n",
    "df_prueba.loc[indexes_quintopiso,'floor'] = 5\n",
    "df_prueba.loc[indexes_sextopiso,'floor'] = 6\n",
    "df_prueba.loc[indexes_septimopiso,'floor'] = 7\n",
    "df_prueba.loc[indexes_octavopiso,'floor'] = 8\n",
    "df_prueba.loc[indexes_novenopiso,'floor'] = 9\n",
    "df_prueba.loc[indexes_decimopiso,'floor'] = 10"
   ]
  },
  {
   "cell_type": "code",
   "execution_count": 12,
   "metadata": {},
   "outputs": [
    {
     "name": "stderr",
     "output_type": "stream",
     "text": [
      "C:\\Users\\aneustadt\\AppData\\Local\\Continuum\\anaconda3\\lib\\site-packages\\ipykernel_launcher.py:4: UserWarning: This pattern has match groups. To actually get the groups, use str.extract.\n",
      "  after removing the cwd from sys.path.\n"
     ]
    }
   ],
   "source": [
    "df_exnul = df_prueba.loc[df_prueba['expenses'].isnull()]\n",
    "df_exnul_descripnotnul = df_exnul.loc[df_exnul[\"description\"].notnull()]\n",
    "\n",
    "NOEXPENSAS = df_exnul_descripnotnul[df_exnul_descripnotnul[\"description\"].str.contains(r\"(no hay|no paga|no tiene|sin) expensas\",flags=re.I, regex=True)]\n",
    "# 1700\n",
    "\n",
    "# IMPUTACION\n",
    "indexes_NOEXPENSAS = list(NOEXPENSAS.index)\n",
    "df_prueba.loc[indexes_NOEXPENSAS,'expenses'] = 0"
   ]
  },
  {
   "cell_type": "code",
   "execution_count": 13,
   "metadata": {
    "scrolled": true
   },
   "outputs": [
    {
     "name": "stderr",
     "output_type": "stream",
     "text": [
      "C:\\Users\\aneustadt\\AppData\\Local\\Continuum\\anaconda3\\lib\\site-packages\\ipykernel_launcher.py:6: UserWarning: This pattern has match groups. To actually get the groups, use str.extract.\n",
      "  \n"
     ]
    }
   ],
   "source": [
    "df_cunul = df_prueba.loc[df_prueba['currency'].isnull()]\n",
    "df_cunul_descripnotnul = df_cunul.loc[df_cunul[\"description\"].notnull()]\n",
    "\n",
    "DOLARES = df_cunul_descripnotnul[df_cunul_descripnotnul[\"description\"].str.contains(r\"\\d+ DOLARES\",flags=re.I, regex=True)]\n",
    "DOLARES_1 = df_cunul_descripnotnul[df_cunul_descripnotnul[\"description\"].str.contains(r\"usd\",flags=re.I, regex=True)]\n",
    "DOLARES_2 = df_cunul_descripnotnul[df_cunul_descripnotnul[\"description\"].str.contains(r\"(U\\$D|U\\$S|U\\$) \\d+\",flags=re.I, regex=True)]\n",
    "PESOS = df_cunul_descripnotnul[df_cunul_descripnotnul[\"description\"].str.contains(r\"\\d+ PESOS\",flags=re.I, regex=True)]\n",
    "PESOS_1 = df_cunul_descripnotnul[df_cunul_descripnotnul[\"description\"].str.contains(r\"\\$\\d+\",flags=re.I, regex=True)]\n",
    "\n",
    "# IMPUTACION\n",
    "indexes_DOLARES = list(DOLARES.index)\n",
    "indexes_DOLARES_1 = list(DOLARES_1.index)\n",
    "indexes_DOLARES_2 = list(DOLARES_2.index)\n",
    "indexes_PESOS = list(PESOS.index)\n",
    "indexes_PESOS_1 = list(PESOS_1.index)\n",
    "\n",
    "df_prueba.loc[indexes_DOLARES,'currency'] = \"USD\"\n",
    "df_prueba.loc[indexes_DOLARES_1,'currency'] = \"USD\"\n",
    "df_prueba.loc[indexes_DOLARES_2,'currency'] = \"USD\"\n",
    "df_prueba.loc[indexes_PESOS,'currency'] = \"ARS\"\n",
    "df_prueba.loc[indexes_PESOS_1,'currency'] = \"ARS\""
   ]
  },
  {
   "cell_type": "code",
   "execution_count": 14,
   "metadata": {},
   "outputs": [],
   "source": [
    "# Agrego una columna que indicara si el lugar es un Country Club o Barrio Cerrado\n",
    "df_prueba['cc_barrio_c'] = np.nan"
   ]
  },
  {
   "cell_type": "code",
   "execution_count": 15,
   "metadata": {},
   "outputs": [
    {
     "name": "stderr",
     "output_type": "stream",
     "text": [
      "C:\\Users\\aneustadt\\AppData\\Local\\Continuum\\anaconda3\\lib\\site-packages\\ipykernel_launcher.py:6: UserWarning: This pattern has match groups. To actually get the groups, use str.extract.\n",
      "  \n"
     ]
    }
   ],
   "source": [
    "# Debo seguir para encontarr al country y/o barrio cerrado\n",
    "\n",
    "df_banul = df_prueba.loc[df_prueba['cc_barrio_c'].isnull()]\n",
    "df_banul_descripnotnul = df_banul.loc[df_banul['lugar'].notnull()]\n",
    "\n",
    "country_barrio = df_banul_descripnotnul[df_banul_descripnotnul[\"lugar\"].str.contains(r\"(country|barrio cerrado|cc|Nordelta)\",flags=re.I, regex=True)]\n",
    "\n",
    "# IMPUTACION\n",
    "indexes_country_barrio = list(country_barrio.index)\n",
    "df_prueba.loc[indexes_country_barrio,'cc_barrio_c'] = 1"
   ]
  },
  {
   "cell_type": "code",
   "execution_count": 16,
   "metadata": {},
   "outputs": [
    {
     "data": {
      "text/plain": [
       "58"
      ]
     },
     "execution_count": 16,
     "metadata": {},
     "output_type": "execute_result"
    }
   ],
   "source": [
    "df_prueba['cc_barrio_c'].notnull().sum()"
   ]
  },
  {
   "cell_type": "markdown",
   "metadata": {},
   "source": [
    "## Finalmente\n",
    "1 Eliminamos los nulos y errores como los 1106 de sup cubierta > sup total.\n",
    "\n",
    "2 Quitamos Outliers.\n",
    "\n",
    "3 Separamos las bases segun typo de propiedad.\n",
    "\n",
    "4 Extraemos el dataframe procesado a unos nuevos csv."
   ]
  },
  {
   "cell_type": "code",
   "execution_count": 17,
   "metadata": {},
   "outputs": [
    {
     "data": {
      "text/plain": [
       "Index(['Unnamed: 0', 'property_type', 'title', 'description',\n",
       "       'surface_total_in_m2', 'surface_covered_in_m2', 'rooms', 'floor',\n",
       "       'price_aprox_usd', 'price_usd_per_m2', 'price_per_m2', 'price',\n",
       "       'currency', 'price_aprox_local_currency', 'expenses', 'state_name',\n",
       "       'geonames_id', 'lat-lon', 'lat', 'lon', 'ciudad', 'barrio', 'lugar',\n",
       "       'cc_barrio_c'],\n",
       "      dtype='object')"
      ]
     },
     "execution_count": 17,
     "metadata": {},
     "output_type": "execute_result"
    }
   ],
   "source": [
    "df_prueba.columns"
   ]
  },
  {
   "cell_type": "code",
   "execution_count": 18,
   "metadata": {},
   "outputs": [
    {
     "data": {
      "text/plain": [
       "(810, 24)"
      ]
     },
     "execution_count": 18,
     "metadata": {},
     "output_type": "execute_result"
    }
   ],
   "source": [
    "df_prueba.shape"
   ]
  },
  {
   "cell_type": "code",
   "execution_count": 19,
   "metadata": {},
   "outputs": [
    {
     "data": {
      "text/plain": [
       "0"
      ]
     },
     "execution_count": 19,
     "metadata": {},
     "output_type": "execute_result"
    }
   ],
   "source": [
    "# Analisis de registros duplicados (todas las columnas)\n",
    "duplicados = df_prueba[df_prueba.duplicated(keep='first')]\n",
    "len(duplicados)"
   ]
  },
  {
   "cell_type": "code",
   "execution_count": 20,
   "metadata": {},
   "outputs": [],
   "source": [
    "# Ahora todos los nulos en precio y superficies"
   ]
  },
  {
   "cell_type": "code",
   "execution_count": 21,
   "metadata": {},
   "outputs": [],
   "source": [
    "mask_nulos = -((df_prueba.price_aprox_usd > 0) & (df_prueba.surface_covered_in_m2 > 0) &\\\n",
    "        (df_prueba.surface_total_in_m2 > 0) & (df_prueba.price_per_m2 > 0) & (df_prueba.price_usd_per_m2 > 0))"
   ]
  },
  {
   "cell_type": "code",
   "execution_count": 22,
   "metadata": {},
   "outputs": [
    {
     "data": {
      "text/plain": [
       "False    722\n",
       "True      88\n",
       "dtype: int64"
      ]
     },
     "execution_count": 22,
     "metadata": {},
     "output_type": "execute_result"
    }
   ],
   "source": [
    "mask_nulos.value_counts()"
   ]
  },
  {
   "cell_type": "code",
   "execution_count": 23,
   "metadata": {},
   "outputs": [],
   "source": [
    "df_prueba.drop(df_prueba[mask_nulos].index, inplace=True)"
   ]
  },
  {
   "cell_type": "code",
   "execution_count": 24,
   "metadata": {},
   "outputs": [
    {
     "data": {
      "text/plain": [
       "Index(['Unnamed: 0', 'property_type', 'title', 'description',\n",
       "       'surface_total_in_m2', 'surface_covered_in_m2', 'rooms', 'floor',\n",
       "       'price_aprox_usd', 'price_usd_per_m2', 'price_per_m2', 'expenses',\n",
       "       'state_name', 'geonames_id', 'lat-lon', 'lat', 'lon', 'ciudad',\n",
       "       'barrio', 'lugar', 'cc_barrio_c'],\n",
       "      dtype='object')"
      ]
     },
     "execution_count": 24,
     "metadata": {},
     "output_type": "execute_result"
    }
   ],
   "source": [
    "# Ahora las columnas que no agregan valor\n",
    "df_prueba.drop(['price', 'currency', 'price_aprox_local_currency'], axis=1, inplace=True)\n",
    "df_prueba.columns"
   ]
  },
  {
   "cell_type": "code",
   "execution_count": 25,
   "metadata": {},
   "outputs": [
    {
     "data": {
      "text/plain": [
       "(722, 21)"
      ]
     },
     "execution_count": 25,
     "metadata": {},
     "output_type": "execute_result"
    }
   ],
   "source": [
    "df_prueba.shape"
   ]
  },
  {
   "cell_type": "code",
   "execution_count": 26,
   "metadata": {},
   "outputs": [
    {
     "data": {
      "text/plain": [
       "Index(['Unnamed: 0', 'property_type', 'title', 'description',\n",
       "       'surface_total_in_m2', 'surface_covered_in_m2', 'rooms', 'floor',\n",
       "       'price_aprox_usd', 'price_usd_per_m2_tot', 'price_usd_per_m2_cov',\n",
       "       'expenses', 'state_name', 'geonames_id', 'lat-lon', 'lat', 'lon',\n",
       "       'ciudad', 'barrio', 'lugar', 'cc_barrio_c'],\n",
       "      dtype='object')"
      ]
     },
     "execution_count": 26,
     "metadata": {},
     "output_type": "execute_result"
    }
   ],
   "source": [
    "# Renombro columnas de precio/m2 en superficies cubiertas y total\n",
    "df_prueba = df_prueba.rename(columns = {'price_per_m2':'price_usd_per_m2_cov',\\\n",
    "                                                'price_usd_per_m2':'price_usd_per_m2_tot'})\n",
    "df_prueba.columns"
   ]
  },
  {
   "cell_type": "code",
   "execution_count": 27,
   "metadata": {},
   "outputs": [
    {
     "data": {
      "text/plain": [
       "<matplotlib.axes._subplots.AxesSubplot at 0xbff52e8>"
      ]
     },
     "execution_count": 27,
     "metadata": {},
     "output_type": "execute_result"
    },
    {
     "data": {
      "image/png": "[encoded data removed]",
      "text/plain": [
       "<Figure size 432x288 with 1 Axes>"
      ]
     },
     "metadata": {
      "needs_background": "light"
     },
     "output_type": "display_data"
    }
   ],
   "source": [
    "# Ahora veremos los Outliers en precio por typo de propiedad\n",
    "df_prueba.boxplot(column='price_usd_per_m2_cov', by='property_type')"
   ]
  },
  {
   "cell_type": "code",
   "execution_count": 28,
   "metadata": {
    "scrolled": true
   },
   "outputs": [
    {
     "data": {
      "text/html": [
       "<div>\n",
       "<style scoped>\n",
       "    .dataframe tbody tr th:only-of-type {\n",
       "        vertical-align: middle;\n",
       "    }\n",
       "\n",
       "    .dataframe tbody tr th {\n",
       "        vertical-align: top;\n",
       "    }\n",
       "\n",
       "    .dataframe thead th {\n",
       "        text-align: right;\n",
       "    }\n",
       "</style>\n",
       "<table border=\"1\" class=\"dataframe\">\n",
       "  <thead>\n",
       "    <tr style=\"text-align: right;\">\n",
       "      <th></th>\n",
       "      <th>count</th>\n",
       "      <th>mean</th>\n",
       "      <th>std</th>\n",
       "      <th>min</th>\n",
       "      <th>25%</th>\n",
       "      <th>50%</th>\n",
       "      <th>75%</th>\n",
       "      <th>max</th>\n",
       "    </tr>\n",
       "    <tr>\n",
       "      <th>property_type</th>\n",
       "      <th></th>\n",
       "      <th></th>\n",
       "      <th></th>\n",
       "      <th></th>\n",
       "      <th></th>\n",
       "      <th></th>\n",
       "      <th></th>\n",
       "      <th></th>\n",
       "    </tr>\n",
       "  </thead>\n",
       "  <tbody>\n",
       "    <tr>\n",
       "      <th>PH</th>\n",
       "      <td>35.0</td>\n",
       "      <td>3493.277854</td>\n",
       "      <td>4733.595503</td>\n",
       "      <td>714.285714</td>\n",
       "      <td>1307.894737</td>\n",
       "      <td>2200.000000</td>\n",
       "      <td>2974.987975</td>\n",
       "      <td>25000.000000</td>\n",
       "    </tr>\n",
       "    <tr>\n",
       "      <th>apartment</th>\n",
       "      <td>159.0</td>\n",
       "      <td>5261.744614</td>\n",
       "      <td>6268.390217</td>\n",
       "      <td>253.807107</td>\n",
       "      <td>1954.848486</td>\n",
       "      <td>3440.365854</td>\n",
       "      <td>6431.088346</td>\n",
       "      <td>44900.000000</td>\n",
       "    </tr>\n",
       "    <tr>\n",
       "      <th>house</th>\n",
       "      <td>498.0</td>\n",
       "      <td>3071.254699</td>\n",
       "      <td>4151.247471</td>\n",
       "      <td>298.607676</td>\n",
       "      <td>1326.564626</td>\n",
       "      <td>1814.646465</td>\n",
       "      <td>2794.444444</td>\n",
       "      <td>38000.000000</td>\n",
       "    </tr>\n",
       "    <tr>\n",
       "      <th>store</th>\n",
       "      <td>30.0</td>\n",
       "      <td>2868.559291</td>\n",
       "      <td>2657.997362</td>\n",
       "      <td>875.000000</td>\n",
       "      <td>1162.121212</td>\n",
       "      <td>1880.731196</td>\n",
       "      <td>3353.493738</td>\n",
       "      <td>11818.181818</td>\n",
       "    </tr>\n",
       "  </tbody>\n",
       "</table>\n",
       "</div>"
      ],
      "text/plain": [
       "               count         mean          std         min          25%  \\\n",
       "property_type                                                             \n",
       "PH              35.0  3493.277854  4733.595503  714.285714  1307.894737   \n",
       "apartment      159.0  5261.744614  6268.390217  253.807107  1954.848486   \n",
       "house          498.0  3071.254699  4151.247471  298.607676  1326.564626   \n",
       "store           30.0  2868.559291  2657.997362  875.000000  1162.121212   \n",
       "\n",
       "                       50%          75%           max  \n",
       "property_type                                          \n",
       "PH             2200.000000  2974.987975  25000.000000  \n",
       "apartment      3440.365854  6431.088346  44900.000000  \n",
       "house          1814.646465  2794.444444  38000.000000  \n",
       "store          1880.731196  3353.493738  11818.181818  "
      ]
     },
     "execution_count": 28,
     "metadata": {},
     "output_type": "execute_result"
    }
   ],
   "source": [
    "df_prueba.groupby('property_type')['price_usd_per_m2_cov'].describe()"
   ]
  },
  {
   "cell_type": "code",
   "execution_count": 29,
   "metadata": {},
   "outputs": [
    {
     "data": {
      "text/plain": [
       "count      722.000000\n",
       "mean      3565.683847\n",
       "std       4759.629182\n",
       "min        253.807107\n",
       "25%       1386.357298\n",
       "50%       2020.833333\n",
       "75%       3386.432927\n",
       "max      44900.000000\n",
       "Name: price_usd_per_m2_cov, dtype: float64"
      ]
     },
     "execution_count": 29,
     "metadata": {},
     "output_type": "execute_result"
    }
   ],
   "source": [
    "df_prueba.price_usd_per_m2_cov.describe()"
   ]
  },
  {
   "cell_type": "code",
   "execution_count": 30,
   "metadata": {},
   "outputs": [],
   "source": [
    "# Outlier para cada tipo de propiedad\n",
    "a = (((df_prueba.price_usd_per_m2_cov[np.abs(df_prueba.price_usd_per_m2_cov) > \\\n",
    "        (3 * df_prueba.price_usd_per_m2_cov.std() + df_prueba.price_usd_per_m2_cov.mean())]\\\n",
    "       [df_prueba.property_type == 'PH'])) > 0).index\n",
    "\n",
    "b = (((df_prueba.price_usd_per_m2_cov[np.abs(df_prueba.price_usd_per_m2_cov) > \\\n",
    "        (3 * df_prueba.price_usd_per_m2_cov.std() + df_prueba.price_usd_per_m2_cov.mean())]\\\n",
    "       [df_prueba.property_type == 'apartment'])) > 0).index\n",
    "\n",
    "c = (((df_prueba.price_usd_per_m2_cov[np.abs(df_prueba.price_usd_per_m2_cov) > \\\n",
    "        (3 * df_prueba.price_usd_per_m2_cov.std() + df_prueba.price_usd_per_m2_cov.mean())]\\\n",
    "       [df_prueba.property_type == 'house'])) > 0).index\n",
    "\n",
    "d = (((df_prueba.price_usd_per_m2_cov[np.abs(df_prueba.price_usd_per_m2_cov) > \\\n",
    "        (3 * df_prueba.price_usd_per_m2_cov.std() + df_prueba.price_usd_per_m2_cov.mean())]\\\n",
    "       [df_prueba.property_type == 'store'])) > 0).index"
   ]
  },
  {
   "cell_type": "code",
   "execution_count": 31,
   "metadata": {},
   "outputs": [
    {
     "data": {
      "text/plain": [
       "(707, 21)"
      ]
     },
     "execution_count": 31,
     "metadata": {},
     "output_type": "execute_result"
    }
   ],
   "source": [
    "# Dropeo los Outlier por cada tipo de propiedad\n",
    "\n",
    "df_prueba.drop(df_prueba.loc[a].index, inplace=True)\n",
    "df_prueba.drop(df_prueba.loc[b].index, inplace=True)\n",
    "df_prueba.drop(df_prueba.loc[c].index, inplace=True)\n",
    "df_prueba.drop(df_prueba.loc[d].index, inplace=True)\n",
    "\n",
    "df_prueba.shape"
   ]
  },
  {
   "cell_type": "code",
   "execution_count": 32,
   "metadata": {},
   "outputs": [],
   "source": [
    "# cargo cada base nueva\n",
    "df_prueba[df_prueba.property_type == 'PH'].to_csv('prueba_PH.csv')\n",
    "df_prueba[df_prueba.property_type == 'apartment'].to_csv('prueba_apartament.csv')\n",
    "df_prueba[df_prueba.property_type == 'house'].to_csv('prueba_house.csv')\n",
    "df_prueba[df_prueba.property_type == 'store'].to_csv('prueba_store.csv')"
   ]
  },
  {
   "cell_type": "code",
   "execution_count": 33,
   "metadata": {
    "scrolled": true
   },
   "outputs": [
    {
     "data": {
      "text/plain": [
       "house        490\n",
       "apartment    153\n",
       "PH            34\n",
       "store         30\n",
       "Name: property_type, dtype: int64"
      ]
     },
     "execution_count": 33,
     "metadata": {},
     "output_type": "execute_result"
    }
   ],
   "source": [
    "df_prueba.property_type.value_counts()"
   ]
  }
 ],
 "metadata": {
  "kernelspec": {
   "display_name": "Python 3",
   "language": "python",
   "name": "python3"
  },
  "language_info": {
   "codemirror_mode": {
    "name": "ipython",
    "version": 3
   },
   "file_extension": ".py",
   "mimetype": "text/x-python",
   "name": "python",
   "nbconvert_exporter": "python",
   "pygments_lexer": "ipython3",
   "version": "3.7.3"
  }
 },
 "nbformat": 4,
 "nbformat_minor": 2
}
