{
 "cells": [
  {
   "cell_type": "markdown",
   "metadata": {
    "colab_type": "text",
    "id": "hBJi1X3rYqb2"
   },
   "source": [
    "# Desafío N° 2 \n",
    "## 3 - Machine Learning\n",
    "\n",
    "### Grupo N° 5\n",
    "\n",
    "    Integrantes:\n",
    "                Arangue, Marcelo            \n",
    "                Bardauil, Joaquín              \n",
    "                Marquez, Hector              \n",
    "                Neustadt, Alejandro       \n",
    "                Pero, Felipe                                    "
   ]
  },
  {
   "cell_type": "markdown",
   "metadata": {
    "colab_type": "text",
    "id": "DuRbYNZlYqb9"
   },
   "source": [
    "## Aprendizaje supervisado: Regresión lineal simple"
   ]
  },
  {
   "cell_type": "code",
   "execution_count": 1,
   "metadata": {},
   "outputs": [],
   "source": [
    "# %load ../standard_import.txt\n",
    "import pandas as pd\n",
    "import numpy as np\n",
    "import matplotlib.pyplot as plt\n",
    "import seaborn as sns\n",
    "\n",
    "import sklearn.linear_model as skl_lm\n",
    "from sklearn.metrics import mean_squared_error, r2_score\n",
    "import statsmodels.formula.api as smf\n",
    "\n",
    "%matplotlib inline\n",
    "plt.style.use('seaborn-white')"
   ]
  },
  {
   "cell_type": "code",
   "execution_count": 2,
   "metadata": {},
   "outputs": [
    {
     "name": "stdout",
     "output_type": "stream",
     "text": [
      "<class 'pandas.core.frame.DataFrame'>\n",
      "RangeIndex: 1806 entries, 0 to 1805\n",
      "Data columns (total 5 columns):\n",
      "surface_covered_in_m2    1806 non-null float64\n",
      "rooms                    1806 non-null float64\n",
      "floor                    1806 non-null float64\n",
      "price_aprox_usd          1806 non-null float64\n",
      "expenses                 1806 non-null float64\n",
      "dtypes: float64(5)\n",
      "memory usage: 70.6 KB\n"
     ]
    }
   ],
   "source": [
    "# Por lo visto en el notebook Departamentos se observa una alta correlacion entre supreficies, con lo que trabajaremos\n",
    "# solo con la cubierta\n",
    "\n",
    "# Tambien vimos de trabajar con datos completos, para ver si hay mas exactitud, ya que con la base completa\n",
    "# llegamos solo al R2 = 0.02 o 0.2\n",
    "\n",
    "df_dpto = pd.read_csv('prop_apartament_not_nulls.csv', usecols=[1,2,3,4,5])\n",
    "df_dpto.info()"
   ]
  },
  {
   "cell_type": "code",
   "execution_count": 3,
   "metadata": {},
   "outputs": [
    {
     "data": {
      "text/html": [
       "<div>\n",
       "<style scoped>\n",
       "    .dataframe tbody tr th:only-of-type {\n",
       "        vertical-align: middle;\n",
       "    }\n",
       "\n",
       "    .dataframe tbody tr th {\n",
       "        vertical-align: top;\n",
       "    }\n",
       "\n",
       "    .dataframe thead th {\n",
       "        text-align: right;\n",
       "    }\n",
       "</style>\n",
       "<table border=\"1\" class=\"dataframe\">\n",
       "  <thead>\n",
       "    <tr style=\"text-align: right;\">\n",
       "      <th></th>\n",
       "      <th>surface_covered_in_m2</th>\n",
       "      <th>rooms</th>\n",
       "      <th>floor</th>\n",
       "      <th>price_aprox_usd</th>\n",
       "      <th>expenses</th>\n",
       "    </tr>\n",
       "  </thead>\n",
       "  <tbody>\n",
       "    <tr>\n",
       "      <th>0</th>\n",
       "      <td>30.0</td>\n",
       "      <td>2.0</td>\n",
       "      <td>3.0</td>\n",
       "      <td>54000.0</td>\n",
       "      <td>800.0</td>\n",
       "    </tr>\n",
       "    <tr>\n",
       "      <th>1</th>\n",
       "      <td>80.0</td>\n",
       "      <td>2.0</td>\n",
       "      <td>2.0</td>\n",
       "      <td>160000.0</td>\n",
       "      <td>1700.0</td>\n",
       "    </tr>\n",
       "    <tr>\n",
       "      <th>2</th>\n",
       "      <td>82.0</td>\n",
       "      <td>4.0</td>\n",
       "      <td>11.0</td>\n",
       "      <td>120000.0</td>\n",
       "      <td>1560.0</td>\n",
       "    </tr>\n",
       "    <tr>\n",
       "      <th>3</th>\n",
       "      <td>62.0</td>\n",
       "      <td>3.0</td>\n",
       "      <td>1.0</td>\n",
       "      <td>90000.0</td>\n",
       "      <td>1070.0</td>\n",
       "    </tr>\n",
       "    <tr>\n",
       "      <th>4</th>\n",
       "      <td>65.0</td>\n",
       "      <td>3.0</td>\n",
       "      <td>2.0</td>\n",
       "      <td>115000.0</td>\n",
       "      <td>2500.0</td>\n",
       "    </tr>\n",
       "  </tbody>\n",
       "</table>\n",
       "</div>"
      ],
      "text/plain": [
       "   surface_covered_in_m2  rooms  floor  price_aprox_usd  expenses\n",
       "0                   30.0    2.0    3.0          54000.0     800.0\n",
       "1                   80.0    2.0    2.0         160000.0    1700.0\n",
       "2                   82.0    4.0   11.0         120000.0    1560.0\n",
       "3                   62.0    3.0    1.0          90000.0    1070.0\n",
       "4                   65.0    3.0    2.0         115000.0    2500.0"
      ]
     },
     "execution_count": 3,
     "metadata": {},
     "output_type": "execute_result"
    }
   ],
   "source": [
    "df_dpto.head()"
   ]
  },
  {
   "cell_type": "markdown",
   "metadata": {},
   "source": [
    "Visualizamos los datos haciendo un pairplot:"
   ]
  },
  {
   "cell_type": "code",
   "execution_count": 4,
   "metadata": {},
   "outputs": [
    {
     "data": {
      "image/png": "[encoded data removed]",
      "text/plain": [
       "<Figure size 900x900 with 30 Axes>"
      ]
     },
     "metadata": {
      "needs_background": "light"
     },
     "output_type": "display_data"
    }
   ],
   "source": [
    "sns.pairplot(df_dpto);"
   ]
  },
  {
   "cell_type": "markdown",
   "metadata": {},
   "source": [
    "Calculamos la matriz de correlación:"
   ]
  },
  {
   "cell_type": "code",
   "execution_count": 5,
   "metadata": {},
   "outputs": [
    {
     "data": {
      "text/html": [
       "<div>\n",
       "<style scoped>\n",
       "    .dataframe tbody tr th:only-of-type {\n",
       "        vertical-align: middle;\n",
       "    }\n",
       "\n",
       "    .dataframe tbody tr th {\n",
       "        vertical-align: top;\n",
       "    }\n",
       "\n",
       "    .dataframe thead th {\n",
       "        text-align: right;\n",
       "    }\n",
       "</style>\n",
       "<table border=\"1\" class=\"dataframe\">\n",
       "  <thead>\n",
       "    <tr style=\"text-align: right;\">\n",
       "      <th></th>\n",
       "      <th>surface_covered_in_m2</th>\n",
       "      <th>rooms</th>\n",
       "      <th>floor</th>\n",
       "      <th>price_aprox_usd</th>\n",
       "      <th>expenses</th>\n",
       "    </tr>\n",
       "  </thead>\n",
       "  <tbody>\n",
       "    <tr>\n",
       "      <th>surface_covered_in_m2</th>\n",
       "      <td>1.000000</td>\n",
       "      <td>0.726321</td>\n",
       "      <td>-0.007152</td>\n",
       "      <td>0.836030</td>\n",
       "      <td>-0.013164</td>\n",
       "    </tr>\n",
       "    <tr>\n",
       "      <th>rooms</th>\n",
       "      <td>0.726321</td>\n",
       "      <td>1.000000</td>\n",
       "      <td>-0.043704</td>\n",
       "      <td>0.576887</td>\n",
       "      <td>-0.005049</td>\n",
       "    </tr>\n",
       "    <tr>\n",
       "      <th>floor</th>\n",
       "      <td>-0.007152</td>\n",
       "      <td>-0.043704</td>\n",
       "      <td>1.000000</td>\n",
       "      <td>0.129392</td>\n",
       "      <td>0.024617</td>\n",
       "    </tr>\n",
       "    <tr>\n",
       "      <th>price_aprox_usd</th>\n",
       "      <td>0.836030</td>\n",
       "      <td>0.576887</td>\n",
       "      <td>0.129392</td>\n",
       "      <td>1.000000</td>\n",
       "      <td>0.001846</td>\n",
       "    </tr>\n",
       "    <tr>\n",
       "      <th>expenses</th>\n",
       "      <td>-0.013164</td>\n",
       "      <td>-0.005049</td>\n",
       "      <td>0.024617</td>\n",
       "      <td>0.001846</td>\n",
       "      <td>1.000000</td>\n",
       "    </tr>\n",
       "  </tbody>\n",
       "</table>\n",
       "</div>"
      ],
      "text/plain": [
       "                       surface_covered_in_m2     rooms     floor  \\\n",
       "surface_covered_in_m2               1.000000  0.726321 -0.007152   \n",
       "rooms                               0.726321  1.000000 -0.043704   \n",
       "floor                              -0.007152 -0.043704  1.000000   \n",
       "price_aprox_usd                     0.836030  0.576887  0.129392   \n",
       "expenses                           -0.013164 -0.005049  0.024617   \n",
       "\n",
       "                       price_aprox_usd  expenses  \n",
       "surface_covered_in_m2         0.836030 -0.013164  \n",
       "rooms                         0.576887 -0.005049  \n",
       "floor                         0.129392  0.024617  \n",
       "price_aprox_usd               1.000000  0.001846  \n",
       "expenses                      0.001846  1.000000  "
      ]
     },
     "execution_count": 5,
     "metadata": {},
     "output_type": "execute_result"
    }
   ],
   "source": [
    "df_dpto.corr()"
   ]
  },
  {
   "cell_type": "code",
   "execution_count": 6,
   "metadata": {},
   "outputs": [
    {
     "data": {
      "image/png": "[encoded data removed]",
      "text/plain": [
       "<Figure size 432x288 with 1 Axes>"
      ]
     },
     "metadata": {
      "needs_background": "light"
     },
     "output_type": "display_data"
    }
   ],
   "source": [
    "#https://seaborn.pydata.org/generated/seaborn.regplot.html\n",
    "sns.regplot(df_dpto.surface_covered_in_m2, df_dpto.price_aprox_usd, order=1, ci=None, scatter_kws={'color':'r', 's':9})\n",
    "plt.xlim(-10,310)\n",
    "plt.ylim(bottom=0);"
   ]
  },
  {
   "cell_type": "markdown",
   "metadata": {
    "colab_type": "text",
    "id": "OE8y9bRmYqcQ"
   },
   "source": [
    "#### 1. Seleccionar una \"clase de modelo\""
   ]
  },
  {
   "cell_type": "code",
   "execution_count": 7,
   "metadata": {
    "colab": {},
    "colab_type": "code",
    "id": "p47YawORYqcT"
   },
   "outputs": [],
   "source": [
    "from sklearn.linear_model import LinearRegression"
   ]
  },
  {
   "cell_type": "markdown",
   "metadata": {
    "colab_type": "text",
    "id": "kH9o-ilTYqcj"
   },
   "source": [
    "#### 2. Elegir los hiperparámetros del modelo"
   ]
  },
  {
   "cell_type": "code",
   "execution_count": 8,
   "metadata": {
    "colab": {},
    "colab_type": "code",
    "id": "6VtBY8okYqcl"
   },
   "outputs": [
    {
     "data": {
      "text/plain": [
       "LinearRegression(copy_X=True, fit_intercept=True, n_jobs=None,\n",
       "         normalize=False)"
      ]
     },
     "execution_count": 8,
     "metadata": {},
     "output_type": "execute_result"
    }
   ],
   "source": [
    "model = LinearRegression(fit_intercept=True)\n",
    "model"
   ]
  },
  {
   "cell_type": "markdown",
   "metadata": {
    "colab_type": "text",
    "id": "zeUi31e6Yqc0"
   },
   "source": [
    "#### 3. Preparar los datos en una matriz de features y un vector de target"
   ]
  },
  {
   "cell_type": "code",
   "execution_count": 9,
   "metadata": {
    "colab": {},
    "colab_type": "code",
    "id": "boNeWZy9Yqc3"
   },
   "outputs": [
    {
     "name": "stdout",
     "output_type": "stream",
     "text": [
      "Shape X: (1806, 1)\n",
      "Shape y: (1806,)\n",
      "Type X: <class 'pandas.core.frame.DataFrame'>\n",
      "Type y: <class 'pandas.core.series.Series'>\n"
     ]
    }
   ],
   "source": [
    "# Creamos X e y\n",
    "\n",
    "feature_cols = ['surface_covered_in_m2']\n",
    "X = df_dpto[feature_cols]\n",
    "y = df_dpto.price_aprox_usd\n",
    "\n",
    "print(\"Shape X:\", X.shape)\n",
    "print(\"Shape y:\", y.shape)\n",
    "print(\"Type X:\", type(X))\n",
    "print(\"Type y:\", type(y))"
   ]
  },
  {
   "cell_type": "markdown",
   "metadata": {},
   "source": [
    "#### 4. Split entre set de entrenamiento y de testeo\n",
    "\n",
    "Nos gustaría evaluar el modelo en datos que no hayan sido usados en el entrenamiento, por lo tanto vamos a dividir los datos en un *training set* y un *testing set*.\n",
    "\n",
    "Esto podría hacerse a mano, pero es más conveniente usar la función ``train_test_split``."
   ]
  },
  {
   "cell_type": "code",
   "execution_count": 10,
   "metadata": {},
   "outputs": [],
   "source": [
    "# https://scikit-learn.org/stable/modules/generated/sklearn.model_selection.train_test_split.html\n",
    "from sklearn.model_selection import train_test_split\n",
    "Xtrain, Xtest, ytrain, ytest = train_test_split(X, y, random_state=123)"
   ]
  },
  {
   "cell_type": "code",
   "execution_count": 11,
   "metadata": {},
   "outputs": [
    {
     "data": {
      "text/plain": [
       "(1354, 1)"
      ]
     },
     "execution_count": 11,
     "metadata": {},
     "output_type": "execute_result"
    }
   ],
   "source": [
    "Xtrain.shape"
   ]
  },
  {
   "cell_type": "code",
   "execution_count": 12,
   "metadata": {},
   "outputs": [
    {
     "data": {
      "text/plain": [
       "(452, 1)"
      ]
     },
     "execution_count": 12,
     "metadata": {},
     "output_type": "execute_result"
    }
   ],
   "source": [
    "Xtest.shape"
   ]
  },
  {
   "cell_type": "code",
   "execution_count": 13,
   "metadata": {},
   "outputs": [
    {
     "data": {
      "text/html": [
       "<div>\n",
       "<style scoped>\n",
       "    .dataframe tbody tr th:only-of-type {\n",
       "        vertical-align: middle;\n",
       "    }\n",
       "\n",
       "    .dataframe tbody tr th {\n",
       "        vertical-align: top;\n",
       "    }\n",
       "\n",
       "    .dataframe thead th {\n",
       "        text-align: right;\n",
       "    }\n",
       "</style>\n",
       "<table border=\"1\" class=\"dataframe\">\n",
       "  <thead>\n",
       "    <tr style=\"text-align: right;\">\n",
       "      <th></th>\n",
       "      <th>surface_covered_in_m2</th>\n",
       "    </tr>\n",
       "  </thead>\n",
       "  <tbody>\n",
       "    <tr>\n",
       "      <th>1287</th>\n",
       "      <td>35.0</td>\n",
       "    </tr>\n",
       "    <tr>\n",
       "      <th>653</th>\n",
       "      <td>52.0</td>\n",
       "    </tr>\n",
       "    <tr>\n",
       "      <th>270</th>\n",
       "      <td>52.0</td>\n",
       "    </tr>\n",
       "    <tr>\n",
       "      <th>1549</th>\n",
       "      <td>38.0</td>\n",
       "    </tr>\n",
       "    <tr>\n",
       "      <th>1572</th>\n",
       "      <td>38.0</td>\n",
       "    </tr>\n",
       "  </tbody>\n",
       "</table>\n",
       "</div>"
      ],
      "text/plain": [
       "      surface_covered_in_m2\n",
       "1287                   35.0\n",
       "653                    52.0\n",
       "270                    52.0\n",
       "1549                   38.0\n",
       "1572                   38.0"
      ]
     },
     "execution_count": 13,
     "metadata": {},
     "output_type": "execute_result"
    }
   ],
   "source": [
    "# habia pensado en separar el Xtest e ytest, pero como la funcion esta inicializada siempre da el mismo random, entonces\n",
    "# no mete el test en el training generando overfiting\n",
    "Xtest.head()"
   ]
  },
  {
   "cell_type": "markdown",
   "metadata": {
    "colab_type": "text",
    "id": "q21g2iZ1YqdC"
   },
   "source": [
    "#### 4. Ajustar el modelo a los datos"
   ]
  },
  {
   "cell_type": "code",
   "execution_count": 14,
   "metadata": {
    "colab": {},
    "colab_type": "code",
    "id": "S3tOYqLgYqdI"
   },
   "outputs": [
    {
     "data": {
      "text/plain": [
       "LinearRegression(copy_X=True, fit_intercept=True, n_jobs=None,\n",
       "         normalize=False)"
      ]
     },
     "execution_count": 14,
     "metadata": {},
     "output_type": "execute_result"
    }
   ],
   "source": [
    "model.fit(Xtrain, ytrain)"
   ]
  },
  {
   "cell_type": "code",
   "execution_count": 15,
   "metadata": {
    "colab": {},
    "colab_type": "code",
    "id": "WPr1EOQyYqdX"
   },
   "outputs": [
    {
     "data": {
      "text/plain": [
       "array([2564.06885748])"
      ]
     },
     "execution_count": 15,
     "metadata": {},
     "output_type": "execute_result"
    }
   ],
   "source": [
    "model.coef_"
   ]
  },
  {
   "cell_type": "code",
   "execution_count": 16,
   "metadata": {
    "colab": {},
    "colab_type": "code",
    "id": "DneceQuzYqdm"
   },
   "outputs": [
    {
     "data": {
      "text/plain": [
       "-2734.09971607622"
      ]
     },
     "execution_count": 16,
     "metadata": {},
     "output_type": "execute_result"
    }
   ],
   "source": [
    "model.intercept_"
   ]
  },
  {
   "cell_type": "markdown",
   "metadata": {
    "colab_type": "text",
    "id": "JH9QcMk0Yqdz"
   },
   "source": [
    "#### 5. Predecir etiquetas para datos desconocidos"
   ]
  },
  {
   "cell_type": "code",
   "execution_count": 17,
   "metadata": {
    "colab": {},
    "colab_type": "code",
    "id": "JyvB5Lj0Yqd2"
   },
   "outputs": [
    {
     "data": {
      "text/plain": [
       "array([510079.67177902])"
      ]
     },
     "execution_count": 17,
     "metadata": {},
     "output_type": "execute_result"
    }
   ],
   "source": [
    "# Aplicando la fórmula manualmente\n",
    "\n",
    "test = 200\n",
    "\n",
    "model.intercept_ + model.coef_ * test"
   ]
  },
  {
   "cell_type": "code",
   "execution_count": 18,
   "metadata": {},
   "outputs": [
    {
     "data": {
      "text/plain": [
       "array([510079.67177902])"
      ]
     },
     "execution_count": 18,
     "metadata": {},
     "output_type": "execute_result"
    }
   ],
   "source": [
    "# usando el método del objeto\n",
    "import numpy as np\n",
    "\n",
    "test_sklearn = np.array(test).reshape(-1,1)\n",
    "\n",
    "model.predict(test_sklearn)"
   ]
  },
  {
   "cell_type": "code",
   "execution_count": 19,
   "metadata": {
    "colab": {},
    "colab_type": "code",
    "id": "RRCRFoTTYqeN"
   },
   "outputs": [],
   "source": [
    "ypred = model.predict(Xtest)"
   ]
  },
  {
   "cell_type": "markdown",
   "metadata": {
    "colab_type": "text",
    "id": "0ryiOOtjYqeZ"
   },
   "source": [
    "Finalmente, podemos evaluar la bondad de ajuste utilizando las siguientes métricas:"
   ]
  },
  {
   "cell_type": "code",
   "execution_count": 20,
   "metadata": {
    "colab": {},
    "colab_type": "code",
    "id": "4-u6QckgYqeb"
   },
   "outputs": [
    {
     "name": "stdout",
     "output_type": "stream",
     "text": [
      "MAE: 41883.86466802233\n",
      "MSE: 4267011252.2976527\n",
      "RMSE: 65322.364105240806\n",
      "R2: 0.7067778631632633\n"
     ]
    }
   ],
   "source": [
    "from sklearn import metrics\n",
    "print ('MAE:', metrics.mean_absolute_error(ytest, ypred))\n",
    "print ('MSE:', metrics.mean_squared_error(ytest, ypred))\n",
    "print ('RMSE:', np.sqrt(metrics.mean_squared_error(ytest, ypred)))\n",
    "print ('R2:', metrics.r2_score(ytest, ypred))"
   ]
  },
  {
   "cell_type": "markdown",
   "metadata": {},
   "source": [
    "## statsmodels - Ordinary Least Squares (OLS)"
   ]
  },
  {
   "cell_type": "code",
   "execution_count": 21,
   "metadata": {},
   "outputs": [
    {
     "name": "stdout",
     "output_type": "stream",
     "text": [
      "                            OLS Regression Results                            \n",
      "==============================================================================\n",
      "Dep. Variable:        price_aprox_usd   R-squared:                       0.699\n",
      "Model:                            OLS   Adj. R-squared:                  0.699\n",
      "Method:                 Least Squares   F-statistic:                     4188.\n",
      "Date:                Wed, 17 Jul 2019   Prob (F-statistic):               0.00\n",
      "Time:                        16:13:53   Log-Likelihood:                -22658.\n",
      "No. Observations:                1806   AIC:                         4.532e+04\n",
      "Df Residuals:                    1804   BIC:                         4.533e+04\n",
      "Df Model:                           1                                         \n",
      "Covariance Type:            nonrobust                                         \n",
      "=========================================================================================\n",
      "                            coef    std err          t      P>|t|      [0.025      0.975]\n",
      "-----------------------------------------------------------------------------------------\n",
      "Intercept              -521.9683   3017.741     -0.173      0.863   -6440.603    5396.667\n",
      "surface_covered_in_m2  2523.0827     38.986     64.717      0.000    2446.619    2599.546\n",
      "==============================================================================\n",
      "Omnibus:                      642.030   Durbin-Watson:                   1.698\n",
      "Prob(Omnibus):                  0.000   Jarque-Bera (JB):            11305.276\n",
      "Skew:                           1.200   Prob(JB):                         0.00\n",
      "Kurtosis:                      15.020   Cond. No.                         146.\n",
      "==============================================================================\n",
      "\n",
      "Warnings:\n",
      "[1] Standard Errors assume that the covariance matrix of the errors is correctly specified.\n"
     ]
    }
   ],
   "source": [
    "est = smf.ols('price_aprox_usd ~ surface_covered_in_m2', df_dpto).fit()\n",
    "print(est.summary())"
   ]
  },
  {
   "cell_type": "code",
   "execution_count": 22,
   "metadata": {},
   "outputs": [
    {
     "data": {
      "text/html": [
       "<table class=\"simpletable\">\n",
       "<tr>\n",
       "            <td></td>               <th>coef</th>     <th>std err</th>      <th>t</th>      <th>P>|t|</th>  <th>[0.025</th>    <th>0.975]</th>  \n",
       "</tr>\n",
       "<tr>\n",
       "  <th>Intercept</th>             <td> -521.9683</td> <td> 3017.741</td> <td>   -0.173</td> <td> 0.863</td> <td>-6440.603</td> <td> 5396.667</td>\n",
       "</tr>\n",
       "<tr>\n",
       "  <th>surface_covered_in_m2</th> <td> 2523.0827</td> <td>   38.986</td> <td>   64.717</td> <td> 0.000</td> <td> 2446.619</td> <td> 2599.546</td>\n",
       "</tr>\n",
       "</table>"
      ],
      "text/plain": [
       "<class 'statsmodels.iolib.table.SimpleTable'>"
      ]
     },
     "metadata": {},
     "output_type": "display_data"
    }
   ],
   "source": [
    "display(est.summary().tables[1])"
   ]
  },
  {
   "cell_type": "markdown",
   "metadata": {},
   "source": [
    "Esto indica que 10 m2 adicionales en surface_covered_in_m2, se obtiene un incremento de precio en 252 dolares\n",
    "\n",
    "Obtuve los beta de la regresión lineal simple:\n",
    "\n",
    "y_estimado = coef_Intercept + coef_surface_covered_in_m2 * df_dpto.surface_covered_in_m2\n",
    "RSS es la suma, sobre todos las observaciones, del cuadrado de la diferencia entre y_observado, y_estimado\n",
    "\n",
    "En este ejemplo 'y' es df_dpto.price_aprox_usd"
   ]
  },
  {
   "cell_type": "code",
   "execution_count": 23,
   "metadata": {},
   "outputs": [
    {
     "data": {
      "text/plain": [
       "Intercept                -521.968263\n",
       "surface_covered_in_m2    2523.082676\n",
       "dtype: float64"
      ]
     },
     "execution_count": 23,
     "metadata": {},
     "output_type": "execute_result"
    }
   ],
   "source": [
    "est.params"
   ]
  },
  {
   "cell_type": "code",
   "execution_count": 24,
   "metadata": {},
   "outputs": [
    {
     "data": {
      "text/plain": [
       "-521.9682626392569"
      ]
     },
     "execution_count": 24,
     "metadata": {},
     "output_type": "execute_result"
    }
   ],
   "source": [
    "est.params['Intercept']"
   ]
  },
  {
   "cell_type": "code",
   "execution_count": 25,
   "metadata": {},
   "outputs": [
    {
     "data": {
      "text/plain": [
       "8345284819118.205"
      ]
     },
     "execution_count": 25,
     "metadata": {},
     "output_type": "execute_result"
    }
   ],
   "source": [
    "# RSS with regression coefficients\n",
    "RSS = ((df_dpto.price_aprox_usd - (est.params[0] + est.params[1]*df_dpto.surface_covered_in_m2))**2).sum()\n",
    "RSS"
   ]
  },
  {
   "cell_type": "code",
   "execution_count": 26,
   "metadata": {},
   "outputs": [
    {
     "data": {
      "text/plain": [
       "(0.698946526263928, 4188.290929622467)"
      ]
     },
     "execution_count": 26,
     "metadata": {},
     "output_type": "execute_result"
    }
   ],
   "source": [
    "est.rsquared, est.fvalue"
   ]
  },
  {
   "cell_type": "code",
   "execution_count": 27,
   "metadata": {},
   "outputs": [
    {
     "data": {
      "text/html": [
       "<table class=\"simpletable\">\n",
       "<caption>OLS Regression Results</caption>\n",
       "<tr>\n",
       "  <th>Dep. Variable:</th>     <td>price_aprox_usd</td> <th>  R-squared:         </th> <td>   0.699</td> \n",
       "</tr>\n",
       "<tr>\n",
       "  <th>Model:</th>                   <td>OLS</td>       <th>  Adj. R-squared:    </th> <td>   0.699</td> \n",
       "</tr>\n",
       "<tr>\n",
       "  <th>Method:</th>             <td>Least Squares</td>  <th>  F-statistic:       </th> <td>   4188.</td> \n",
       "</tr>\n",
       "<tr>\n",
       "  <th>Date:</th>             <td>Wed, 17 Jul 2019</td> <th>  Prob (F-statistic):</th>  <td>  0.00</td>  \n",
       "</tr>\n",
       "<tr>\n",
       "  <th>Time:</th>                 <td>16:13:54</td>     <th>  Log-Likelihood:    </th> <td> -22658.</td> \n",
       "</tr>\n",
       "<tr>\n",
       "  <th>No. Observations:</th>      <td>  1806</td>      <th>  AIC:               </th> <td>4.532e+04</td>\n",
       "</tr>\n",
       "<tr>\n",
       "  <th>Df Residuals:</th>          <td>  1804</td>      <th>  BIC:               </th> <td>4.533e+04</td>\n",
       "</tr>\n",
       "<tr>\n",
       "  <th>Df Model:</th>              <td>     1</td>      <th>                     </th>     <td> </td>    \n",
       "</tr>\n",
       "<tr>\n",
       "  <th>Covariance Type:</th>      <td>nonrobust</td>    <th>                     </th>     <td> </td>    \n",
       "</tr>\n",
       "</table>\n",
       "<table class=\"simpletable\">\n",
       "<tr>\n",
       "            <td></td>               <th>coef</th>     <th>std err</th>      <th>t</th>      <th>P>|t|</th>  <th>[0.025</th>    <th>0.975]</th>  \n",
       "</tr>\n",
       "<tr>\n",
       "  <th>Intercept</th>             <td> -521.9683</td> <td> 3017.741</td> <td>   -0.173</td> <td> 0.863</td> <td>-6440.603</td> <td> 5396.667</td>\n",
       "</tr>\n",
       "<tr>\n",
       "  <th>surface_covered_in_m2</th> <td> 2523.0827</td> <td>   38.986</td> <td>   64.717</td> <td> 0.000</td> <td> 2446.619</td> <td> 2599.546</td>\n",
       "</tr>\n",
       "</table>\n",
       "<table class=\"simpletable\">\n",
       "<tr>\n",
       "  <th>Omnibus:</th>       <td>642.030</td> <th>  Durbin-Watson:     </th> <td>   1.698</td> \n",
       "</tr>\n",
       "<tr>\n",
       "  <th>Prob(Omnibus):</th> <td> 0.000</td>  <th>  Jarque-Bera (JB):  </th> <td>11305.276</td>\n",
       "</tr>\n",
       "<tr>\n",
       "  <th>Skew:</th>          <td> 1.200</td>  <th>  Prob(JB):          </th> <td>    0.00</td> \n",
       "</tr>\n",
       "<tr>\n",
       "  <th>Kurtosis:</th>      <td>15.020</td>  <th>  Cond. No.          </th> <td>    146.</td> \n",
       "</tr>\n",
       "</table><br/><br/>Warnings:<br/>[1] Standard Errors assume that the covariance matrix of the errors is correctly specified."
      ],
      "text/plain": [
       "<class 'statsmodels.iolib.summary.Summary'>\n",
       "\"\"\"\n",
       "                            OLS Regression Results                            \n",
       "==============================================================================\n",
       "Dep. Variable:        price_aprox_usd   R-squared:                       0.699\n",
       "Model:                            OLS   Adj. R-squared:                  0.699\n",
       "Method:                 Least Squares   F-statistic:                     4188.\n",
       "Date:                Wed, 17 Jul 2019   Prob (F-statistic):               0.00\n",
       "Time:                        16:13:54   Log-Likelihood:                -22658.\n",
       "No. Observations:                1806   AIC:                         4.532e+04\n",
       "Df Residuals:                    1804   BIC:                         4.533e+04\n",
       "Df Model:                           1                                         \n",
       "Covariance Type:            nonrobust                                         \n",
       "=========================================================================================\n",
       "                            coef    std err          t      P>|t|      [0.025      0.975]\n",
       "-----------------------------------------------------------------------------------------\n",
       "Intercept              -521.9683   3017.741     -0.173      0.863   -6440.603    5396.667\n",
       "surface_covered_in_m2  2523.0827     38.986     64.717      0.000    2446.619    2599.546\n",
       "==============================================================================\n",
       "Omnibus:                      642.030   Durbin-Watson:                   1.698\n",
       "Prob(Omnibus):                  0.000   Jarque-Bera (JB):            11305.276\n",
       "Skew:                           1.200   Prob(JB):                         0.00\n",
       "Kurtosis:                      15.020   Cond. No.                         146.\n",
       "==============================================================================\n",
       "\n",
       "Warnings:\n",
       "[1] Standard Errors assume that the covariance matrix of the errors is correctly specified.\n",
       "\"\"\""
      ]
     },
     "execution_count": 27,
     "metadata": {},
     "output_type": "execute_result"
    }
   ],
   "source": [
    "est.summary()"
   ]
  },
  {
   "cell_type": "markdown",
   "metadata": {},
   "source": [
    "## Regresion Lineal Múltiple"
   ]
  },
  {
   "cell_type": "code",
   "execution_count": 28,
   "metadata": {},
   "outputs": [
    {
     "name": "stdout",
     "output_type": "stream",
     "text": [
      "[ 2663.84052971 -7029.68086355]\n",
      "6277.870548223553\n"
     ]
    }
   ],
   "source": [
    "regr = skl_lm.LinearRegression()\n",
    "\n",
    "X = df_dpto[['surface_covered_in_m2', 'rooms']]\n",
    "y = df_dpto.price_aprox_usd\n",
    "\n",
    "regr.fit(X,y)\n",
    "print(regr.coef_)\n",
    "print(regr.intercept_)"
   ]
  },
  {
   "cell_type": "code",
   "execution_count": 29,
   "metadata": {},
   "outputs": [
    {
     "data": {
      "text/plain": [
       "0.700894723940422"
      ]
     },
     "execution_count": 29,
     "metadata": {},
     "output_type": "execute_result"
    }
   ],
   "source": [
    "price_aprox_usd_pred = regr.predict(X)\n",
    "r2_score(y, price_aprox_usd_pred)"
   ]
  },
  {
   "cell_type": "code",
   "execution_count": 30,
   "metadata": {},
   "outputs": [
    {
     "data": {
      "text/plain": [
       "8291280245470.467"
      ]
     },
     "execution_count": 30,
     "metadata": {},
     "output_type": "execute_result"
    }
   ],
   "source": [
    "# RSS with regression coefficients\n",
    "((df_dpto.price_aprox_usd - (regr.intercept_ + regr.coef_[0]*df_dpto.surface_covered_in_m2 +\\\n",
    "                             regr.coef_[1]*df_dpto.rooms))**2).sum()"
   ]
  },
  {
   "cell_type": "code",
   "execution_count": 31,
   "metadata": {},
   "outputs": [
    {
     "data": {
      "text/html": [
       "<table class=\"simpletable\">\n",
       "<caption>OLS Regression Results</caption>\n",
       "<tr>\n",
       "  <th>Dep. Variable:</th>     <td>price_aprox_usd</td> <th>  R-squared:         </th> <td>   0.701</td> \n",
       "</tr>\n",
       "<tr>\n",
       "  <th>Model:</th>                   <td>OLS</td>       <th>  Adj. R-squared:    </th> <td>   0.701</td> \n",
       "</tr>\n",
       "<tr>\n",
       "  <th>Method:</th>             <td>Least Squares</td>  <th>  F-statistic:       </th> <td>   2112.</td> \n",
       "</tr>\n",
       "<tr>\n",
       "  <th>Date:</th>             <td>Wed, 17 Jul 2019</td> <th>  Prob (F-statistic):</th>  <td>  0.00</td>  \n",
       "</tr>\n",
       "<tr>\n",
       "  <th>Time:</th>                 <td>16:13:55</td>     <th>  Log-Likelihood:    </th> <td> -22652.</td> \n",
       "</tr>\n",
       "<tr>\n",
       "  <th>No. Observations:</th>      <td>  1806</td>      <th>  AIC:               </th> <td>4.531e+04</td>\n",
       "</tr>\n",
       "<tr>\n",
       "  <th>Df Residuals:</th>          <td>  1803</td>      <th>  BIC:               </th> <td>4.533e+04</td>\n",
       "</tr>\n",
       "<tr>\n",
       "  <th>Df Model:</th>              <td>     2</td>      <th>                     </th>     <td> </td>    \n",
       "</tr>\n",
       "<tr>\n",
       "  <th>Covariance Type:</th>      <td>nonrobust</td>    <th>                     </th>     <td> </td>    \n",
       "</tr>\n",
       "</table>\n",
       "<table class=\"simpletable\">\n",
       "<tr>\n",
       "            <td></td>               <th>coef</th>     <th>std err</th>      <th>t</th>      <th>P>|t|</th>  <th>[0.025</th>    <th>0.975]</th>  \n",
       "</tr>\n",
       "<tr>\n",
       "  <th>Intercept</th>             <td> 6277.8705</td> <td> 3604.177</td> <td>    1.742</td> <td> 0.082</td> <td> -790.932</td> <td> 1.33e+04</td>\n",
       "</tr>\n",
       "<tr>\n",
       "  <th>surface_covered_in_m2</th> <td> 2663.8405</td> <td>   56.551</td> <td>   47.105</td> <td> 0.000</td> <td> 2552.928</td> <td> 2774.753</td>\n",
       "</tr>\n",
       "<tr>\n",
       "  <th>rooms</th>                 <td>-7029.6809</td> <td> 2051.319</td> <td>   -3.427</td> <td> 0.001</td> <td>-1.11e+04</td> <td>-3006.468</td>\n",
       "</tr>\n",
       "</table>\n",
       "<table class=\"simpletable\">\n",
       "<tr>\n",
       "  <th>Omnibus:</th>       <td>601.651</td> <th>  Durbin-Watson:     </th> <td>   1.711</td> \n",
       "</tr>\n",
       "<tr>\n",
       "  <th>Prob(Omnibus):</th> <td> 0.000</td>  <th>  Jarque-Bera (JB):  </th> <td>11562.979</td>\n",
       "</tr>\n",
       "<tr>\n",
       "  <th>Skew:</th>          <td> 1.069</td>  <th>  Prob(JB):          </th> <td>    0.00</td> \n",
       "</tr>\n",
       "<tr>\n",
       "  <th>Kurtosis:</th>      <td>15.210</td>  <th>  Cond. No.          </th> <td>    185.</td> \n",
       "</tr>\n",
       "</table><br/><br/>Warnings:<br/>[1] Standard Errors assume that the covariance matrix of the errors is correctly specified."
      ],
      "text/plain": [
       "<class 'statsmodels.iolib.summary.Summary'>\n",
       "\"\"\"\n",
       "                            OLS Regression Results                            \n",
       "==============================================================================\n",
       "Dep. Variable:        price_aprox_usd   R-squared:                       0.701\n",
       "Model:                            OLS   Adj. R-squared:                  0.701\n",
       "Method:                 Least Squares   F-statistic:                     2112.\n",
       "Date:                Wed, 17 Jul 2019   Prob (F-statistic):               0.00\n",
       "Time:                        16:13:55   Log-Likelihood:                -22652.\n",
       "No. Observations:                1806   AIC:                         4.531e+04\n",
       "Df Residuals:                    1803   BIC:                         4.533e+04\n",
       "Df Model:                           2                                         \n",
       "Covariance Type:            nonrobust                                         \n",
       "=========================================================================================\n",
       "                            coef    std err          t      P>|t|      [0.025      0.975]\n",
       "-----------------------------------------------------------------------------------------\n",
       "Intercept              6277.8705   3604.177      1.742      0.082    -790.932    1.33e+04\n",
       "surface_covered_in_m2  2663.8405     56.551     47.105      0.000    2552.928    2774.753\n",
       "rooms                 -7029.6809   2051.319     -3.427      0.001   -1.11e+04   -3006.468\n",
       "==============================================================================\n",
       "Omnibus:                      601.651   Durbin-Watson:                   1.711\n",
       "Prob(Omnibus):                  0.000   Jarque-Bera (JB):            11562.979\n",
       "Skew:                           1.069   Prob(JB):                         0.00\n",
       "Kurtosis:                      15.210   Cond. No.                         185.\n",
       "==============================================================================\n",
       "\n",
       "Warnings:\n",
       "[1] Standard Errors assume that the covariance matrix of the errors is correctly specified.\n",
       "\"\"\""
      ]
     },
     "metadata": {},
     "output_type": "display_data"
    }
   ],
   "source": [
    "# miro los valores de estadisticos devueltos por statsmodels\n",
    "est = smf.ols('price_aprox_usd ~ surface_covered_in_m2 + rooms', df_dpto).fit()\n",
    "#display(est.summary())\n",
    "display(est.summary())"
   ]
  },
  {
   "cell_type": "code",
   "execution_count": 32,
   "metadata": {},
   "outputs": [
    {
     "name": "stdout",
     "output_type": "stream",
     "text": [
      "                            OLS Regression Results                            \n",
      "==============================================================================\n",
      "Dep. Variable:        price_aprox_usd   R-squared:                       0.701\n",
      "Model:                            OLS   Adj. R-squared:                  0.701\n",
      "Method:                 Least Squares   F-statistic:                     2112.\n",
      "Date:                Wed, 17 Jul 2019   Prob (F-statistic):               0.00\n",
      "Time:                        16:13:55   Log-Likelihood:                -22652.\n",
      "No. Observations:                1806   AIC:                         4.531e+04\n",
      "Df Residuals:                    1803   BIC:                         4.533e+04\n",
      "Df Model:                           2                                         \n",
      "Covariance Type:            nonrobust                                         \n",
      "=========================================================================================\n",
      "                            coef    std err          t      P>|t|      [0.025      0.975]\n",
      "-----------------------------------------------------------------------------------------\n",
      "Intercept              6277.8705   3604.177      1.742      0.082    -790.932    1.33e+04\n",
      "surface_covered_in_m2  2663.8405     56.551     47.105      0.000    2552.928    2774.753\n",
      "rooms                 -7029.6809   2051.319     -3.427      0.001   -1.11e+04   -3006.468\n",
      "==============================================================================\n",
      "Omnibus:                      601.651   Durbin-Watson:                   1.711\n",
      "Prob(Omnibus):                  0.000   Jarque-Bera (JB):            11562.979\n",
      "Skew:                           1.069   Prob(JB):                         0.00\n",
      "Kurtosis:                      15.210   Cond. No.                         185.\n",
      "==============================================================================\n",
      "\n",
      "Warnings:\n",
      "[1] Standard Errors assume that the covariance matrix of the errors is correctly specified.\n"
     ]
    }
   ],
   "source": [
    "print(est.summary())"
   ]
  },
  {
   "cell_type": "markdown",
   "metadata": {},
   "source": [
    "### Usando las tres variables (surface_covered_in_m2, rooms, floor) como predictores"
   ]
  },
  {
   "cell_type": "code",
   "execution_count": 33,
   "metadata": {},
   "outputs": [
    {
     "name": "stdout",
     "output_type": "stream",
     "text": [
      "                            OLS Regression Results                            \n",
      "==============================================================================\n",
      "Dep. Variable:        price_aprox_usd   R-squared:                       0.719\n",
      "Model:                            OLS   Adj. R-squared:                  0.718\n",
      "Method:                 Least Squares   F-statistic:                     1534.\n",
      "Date:                Wed, 17 Jul 2019   Prob (F-statistic):               0.00\n",
      "Time:                        16:13:55   Log-Likelihood:                -22597.\n",
      "No. Observations:                1806   AIC:                         4.520e+04\n",
      "Df Residuals:                    1802   BIC:                         4.522e+04\n",
      "Df Model:                           3                                         \n",
      "Covariance Type:            nonrobust                                         \n",
      "=========================================================================================\n",
      "                            coef    std err          t      P>|t|      [0.025      0.975]\n",
      "-----------------------------------------------------------------------------------------\n",
      "Intercept             -1.837e+04   4192.767     -4.380      0.000   -2.66e+04   -1.01e+04\n",
      "surface_covered_in_m2  2642.8976     54.901     48.139      0.000    2535.221    2750.574\n",
      "rooms                 -5840.0457   1993.317     -2.930      0.003   -9749.501   -1930.591\n",
      "floor                  4962.9620    465.911     10.652      0.000    4049.179    5876.745\n",
      "==============================================================================\n",
      "Omnibus:                      601.687   Durbin-Watson:                   1.741\n",
      "Prob(Omnibus):                  0.000   Jarque-Bera (JB):            12304.503\n",
      "Skew:                           1.050   Prob(JB):                         0.00\n",
      "Kurtosis:                      15.614   Cond. No.                         217.\n",
      "==============================================================================\n",
      "\n",
      "Warnings:\n",
      "[1] Standard Errors assume that the covariance matrix of the errors is correctly specified.\n"
     ]
    }
   ],
   "source": [
    "est = smf.ols('price_aprox_usd ~ surface_covered_in_m2 + rooms + floor', df_dpto).fit()\n",
    "print(est.summary())"
   ]
  },
  {
   "cell_type": "markdown",
   "metadata": {},
   "source": [
    "### Usando surface_covered_in_m2, rooms, surface_covered_in_m2*rooms"
   ]
  },
  {
   "cell_type": "code",
   "execution_count": 34,
   "metadata": {},
   "outputs": [
    {
     "data": {
      "text/html": [
       "<div>\n",
       "<style scoped>\n",
       "    .dataframe tbody tr th:only-of-type {\n",
       "        vertical-align: middle;\n",
       "    }\n",
       "\n",
       "    .dataframe tbody tr th {\n",
       "        vertical-align: top;\n",
       "    }\n",
       "\n",
       "    .dataframe thead th {\n",
       "        text-align: right;\n",
       "    }\n",
       "</style>\n",
       "<table border=\"1\" class=\"dataframe\">\n",
       "  <thead>\n",
       "    <tr style=\"text-align: right;\">\n",
       "      <th></th>\n",
       "      <th>surface_covered_in_m2</th>\n",
       "      <th>rooms</th>\n",
       "      <th>floor</th>\n",
       "      <th>price_aprox_usd</th>\n",
       "      <th>expenses</th>\n",
       "      <th>surf_cov_X_Rooms</th>\n",
       "    </tr>\n",
       "  </thead>\n",
       "  <tbody>\n",
       "    <tr>\n",
       "      <th>0</th>\n",
       "      <td>30.0</td>\n",
       "      <td>2.0</td>\n",
       "      <td>3.0</td>\n",
       "      <td>54000.0</td>\n",
       "      <td>800.0</td>\n",
       "      <td>60.0</td>\n",
       "    </tr>\n",
       "    <tr>\n",
       "      <th>1</th>\n",
       "      <td>80.0</td>\n",
       "      <td>2.0</td>\n",
       "      <td>2.0</td>\n",
       "      <td>160000.0</td>\n",
       "      <td>1700.0</td>\n",
       "      <td>160.0</td>\n",
       "    </tr>\n",
       "    <tr>\n",
       "      <th>2</th>\n",
       "      <td>82.0</td>\n",
       "      <td>4.0</td>\n",
       "      <td>11.0</td>\n",
       "      <td>120000.0</td>\n",
       "      <td>1560.0</td>\n",
       "      <td>328.0</td>\n",
       "    </tr>\n",
       "    <tr>\n",
       "      <th>3</th>\n",
       "      <td>62.0</td>\n",
       "      <td>3.0</td>\n",
       "      <td>1.0</td>\n",
       "      <td>90000.0</td>\n",
       "      <td>1070.0</td>\n",
       "      <td>186.0</td>\n",
       "    </tr>\n",
       "    <tr>\n",
       "      <th>4</th>\n",
       "      <td>65.0</td>\n",
       "      <td>3.0</td>\n",
       "      <td>2.0</td>\n",
       "      <td>115000.0</td>\n",
       "      <td>2500.0</td>\n",
       "      <td>195.0</td>\n",
       "    </tr>\n",
       "  </tbody>\n",
       "</table>\n",
       "</div>"
      ],
      "text/plain": [
       "   surface_covered_in_m2  rooms  floor  price_aprox_usd  expenses  \\\n",
       "0                   30.0    2.0    3.0          54000.0     800.0   \n",
       "1                   80.0    2.0    2.0         160000.0    1700.0   \n",
       "2                   82.0    4.0   11.0         120000.0    1560.0   \n",
       "3                   62.0    3.0    1.0          90000.0    1070.0   \n",
       "4                   65.0    3.0    2.0         115000.0    2500.0   \n",
       "\n",
       "   surf_cov_X_Rooms  \n",
       "0              60.0  \n",
       "1             160.0  \n",
       "2             328.0  \n",
       "3             186.0  \n",
       "4             195.0  "
      ]
     },
     "execution_count": 34,
     "metadata": {},
     "output_type": "execute_result"
    }
   ],
   "source": [
    "df_dpto['surf_cov_X_Rooms'] = df_dpto.surface_covered_in_m2 * df_dpto.rooms\n",
    "df_dpto.head(5)"
   ]
  },
  {
   "cell_type": "code",
   "execution_count": 35,
   "metadata": {},
   "outputs": [
    {
     "name": "stdout",
     "output_type": "stream",
     "text": [
      "                            OLS Regression Results                            \n",
      "==============================================================================\n",
      "Dep. Variable:        price_aprox_usd   R-squared:                       0.701\n",
      "Model:                            OLS   Adj. R-squared:                  0.701\n",
      "Method:                 Least Squares   F-statistic:                     1411.\n",
      "Date:                Wed, 17 Jul 2019   Prob (F-statistic):               0.00\n",
      "Time:                        16:13:55   Log-Likelihood:                -22650.\n",
      "No. Observations:                1806   AIC:                         4.531e+04\n",
      "Df Residuals:                    1802   BIC:                         4.533e+04\n",
      "Df Model:                           3                                         \n",
      "Covariance Type:            nonrobust                                         \n",
      "=========================================================================================\n",
      "                            coef    std err          t      P>|t|      [0.025      0.975]\n",
      "-----------------------------------------------------------------------------------------\n",
      "Intercept             -3585.8527   6505.962     -0.551      0.582   -1.63e+04    9174.169\n",
      "surface_covered_in_m2  2848.4144    116.071     24.540      0.000    2620.767    3076.061\n",
      "rooms                 -4227.1736   2563.620     -1.649      0.099   -9255.153     800.806\n",
      "surf_cov_X_Rooms        -47.1076     25.875     -1.821      0.069     -97.856       3.641\n",
      "==============================================================================\n",
      "Omnibus:                      617.747   Durbin-Watson:                   1.718\n",
      "Prob(Omnibus):                  0.000   Jarque-Bera (JB):            11218.645\n",
      "Skew:                           1.127   Prob(JB):                         0.00\n",
      "Kurtosis:                      15.000   Cond. No.                     1.27e+03\n",
      "==============================================================================\n",
      "\n",
      "Warnings:\n",
      "[1] Standard Errors assume that the covariance matrix of the errors is correctly specified.\n",
      "[2] The condition number is large, 1.27e+03. This might indicate that there are\n",
      "strong multicollinearity or other numerical problems.\n"
     ]
    }
   ],
   "source": [
    "est = smf.ols('price_aprox_usd ~ surface_covered_in_m2 + rooms + surf_cov_X_Rooms', df_dpto).fit()\n",
    "print(est.summary())"
   ]
  }
 ],
 "metadata": {
  "accelerator": "GPU",
  "colab": {
   "collapsed_sections": [],
   "name": "1_PRACTICA_GUIADA_Intro_ML_Sklearn_bup.ipynb",
   "provenance": [],
   "version": "0.3.2"
  },
  "kernelspec": {
   "display_name": "Python 3",
   "language": "python",
   "name": "python3"
  },
  "language_info": {
   "codemirror_mode": {
    "name": "ipython",
    "version": 3
   },
   "file_extension": ".py",
   "mimetype": "text/x-python",
   "name": "python",
   "nbconvert_exporter": "python",
   "pygments_lexer": "ipython3",
   "version": "3.7.3"
  }
 },
 "nbformat": 4,
 "nbformat_minor": 1
}
