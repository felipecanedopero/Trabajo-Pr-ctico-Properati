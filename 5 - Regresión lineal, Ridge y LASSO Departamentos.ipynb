{
 "cells": [
  {
   "cell_type": "markdown",
   "metadata": {},
   "source": [
    "# Desafío N° 2 \n",
    "## 5 - Machine Learning\n",
    "\n",
    "### Grupo N° 5\n",
    "\n",
    "    Integrantes:\n",
    "                Arangue, Marcelo            \n",
    "                Bardauil, Joaquín              \n",
    "                Marquez, Hector              \n",
    "                Neustadt, Alejandro       \n",
    "                Pero, Felipe                                    "
   ]
  },
  {
   "cell_type": "code",
   "execution_count": 1,
   "metadata": {},
   "outputs": [],
   "source": [
    "%matplotlib inline\n",
    "import random\n",
    "import numpy as np\n",
    "from matplotlib import pyplot as plt\n",
    "from sklearn import datasets, linear_model\n",
    "\n",
    "import pandas as pd\n",
    "from scipy import stats\n",
    "import seaborn as sns\n",
    "from sklearn import datasets\n",
    "from sklearn.model_selection import train_test_split, KFold, cross_val_score\n",
    "from sklearn.linear_model import LinearRegression, Lasso, LassoCV, Ridge, RidgeCV\n",
    "from sklearn.preprocessing import PolynomialFeatures, StandardScaler\n",
    "from sklearn.metrics import mean_squared_error, r2_score"
   ]
  },
  {
   "cell_type": "code",
   "execution_count": 2,
   "metadata": {},
   "outputs": [
    {
     "data": {
      "text/plain": [
       "Index(['surface_covered_in_m2', 'rooms', 'price_aprox_usd', 'balcon',\n",
       "       'centrico', 'torre', 'Cochera', 'Amenities'],\n",
       "      dtype='object')"
      ]
     },
     "execution_count": 2,
     "metadata": {},
     "output_type": "execute_result"
    }
   ],
   "source": [
    "df_dpto_connulos = pd.read_csv(\"prop_apartament_dummies.csv\", usecols=[7,8,10,23,24,26,27,35])\n",
    "df_dpto_connulos.columns"
   ]
  },
  {
   "cell_type": "code",
   "execution_count": 3,
   "metadata": {},
   "outputs": [
    {
     "data": {
      "text/plain": [
       "(38187, 8)"
      ]
     },
     "execution_count": 3,
     "metadata": {},
     "output_type": "execute_result"
    }
   ],
   "source": [
    "df_dpto = df_dpto_connulos.dropna()\n",
    "df_dpto.shape"
   ]
  },
  {
   "cell_type": "code",
   "execution_count": 4,
   "metadata": {},
   "outputs": [
    {
     "name": "stderr",
     "output_type": "stream",
     "text": [
      "C:\\Users\\aneustadt\\AppData\\Local\\Continuum\\anaconda3\\lib\\site-packages\\ipykernel_launcher.py:1: SettingWithCopyWarning: \n",
      "A value is trying to be set on a copy of a slice from a DataFrame.\n",
      "Try using .loc[row_indexer,col_indexer] = value instead\n",
      "\n",
      "See the caveats in the documentation: http://pandas.pydata.org/pandas-docs/stable/indexing.html#indexing-view-versus-copy\n",
      "  \"\"\"Entry point for launching an IPython kernel.\n"
     ]
    }
   ],
   "source": [
    "df_dpto['surface_covered_in_m2 * rooms'] = df_dpto['surface_covered_in_m2'] * df_dpto['rooms']"
   ]
  },
  {
   "cell_type": "code",
   "execution_count": 5,
   "metadata": {},
   "outputs": [
    {
     "data": {
      "text/plain": [
       "Index(['surface_covered_in_m2', 'rooms', 'price_aprox_usd', 'balcon',\n",
       "       'centrico', 'torre', 'Cochera', 'Amenities',\n",
       "       'surface_covered_in_m2 * rooms'],\n",
       "      dtype='object')"
      ]
     },
     "execution_count": 5,
     "metadata": {},
     "output_type": "execute_result"
    }
   ],
   "source": [
    "df_dpto.columns"
   ]
  },
  {
   "cell_type": "code",
   "execution_count": 6,
   "metadata": {},
   "outputs": [],
   "source": [
    "X = df_dpto[['surface_covered_in_m2', 'rooms','surface_covered_in_m2 * rooms','balcon','centrico','torre','Cochera','Amenities']]\n",
    "y = df_dpto.price_aprox_usd"
   ]
  },
  {
   "cell_type": "markdown",
   "metadata": {},
   "source": [
    "Tengo que elegir entre los tres modelos(regresión lineal, regresion regularizada Ridgea y regresio regularizada LASSO)"
   ]
  },
  {
   "cell_type": "code",
   "execution_count": 7,
   "metadata": {},
   "outputs": [
    {
     "name": "stdout",
     "output_type": "stream",
     "text": [
      "(30549, 8) (30549,)\n",
      "(7638, 8) (7638,)\n"
     ]
    },
    {
     "data": {
      "text/html": [
       "<div>\n",
       "<style scoped>\n",
       "    .dataframe tbody tr th:only-of-type {\n",
       "        vertical-align: middle;\n",
       "    }\n",
       "\n",
       "    .dataframe tbody tr th {\n",
       "        vertical-align: top;\n",
       "    }\n",
       "\n",
       "    .dataframe thead th {\n",
       "        text-align: right;\n",
       "    }\n",
       "</style>\n",
       "<table border=\"1\" class=\"dataframe\">\n",
       "  <thead>\n",
       "    <tr style=\"text-align: right;\">\n",
       "      <th></th>\n",
       "      <th>surface_covered_in_m2</th>\n",
       "      <th>rooms</th>\n",
       "      <th>surface_covered_in_m2 * rooms</th>\n",
       "      <th>balcon</th>\n",
       "      <th>centrico</th>\n",
       "      <th>torre</th>\n",
       "      <th>Cochera</th>\n",
       "      <th>Amenities</th>\n",
       "    </tr>\n",
       "  </thead>\n",
       "  <tbody>\n",
       "    <tr>\n",
       "      <th>29714</th>\n",
       "      <td>41.0</td>\n",
       "      <td>1.0</td>\n",
       "      <td>41.0</td>\n",
       "      <td>0</td>\n",
       "      <td>0</td>\n",
       "      <td>0</td>\n",
       "      <td>0</td>\n",
       "      <td>1</td>\n",
       "    </tr>\n",
       "    <tr>\n",
       "      <th>37420</th>\n",
       "      <td>44.0</td>\n",
       "      <td>1.0</td>\n",
       "      <td>44.0</td>\n",
       "      <td>0</td>\n",
       "      <td>0</td>\n",
       "      <td>0</td>\n",
       "      <td>0</td>\n",
       "      <td>0</td>\n",
       "    </tr>\n",
       "    <tr>\n",
       "      <th>32184</th>\n",
       "      <td>158.0</td>\n",
       "      <td>4.0</td>\n",
       "      <td>632.0</td>\n",
       "      <td>1</td>\n",
       "      <td>0</td>\n",
       "      <td>0</td>\n",
       "      <td>1</td>\n",
       "      <td>0</td>\n",
       "    </tr>\n",
       "    <tr>\n",
       "      <th>38103</th>\n",
       "      <td>46.0</td>\n",
       "      <td>2.0</td>\n",
       "      <td>92.0</td>\n",
       "      <td>0</td>\n",
       "      <td>1</td>\n",
       "      <td>0</td>\n",
       "      <td>0</td>\n",
       "      <td>1</td>\n",
       "    </tr>\n",
       "    <tr>\n",
       "      <th>7713</th>\n",
       "      <td>130.0</td>\n",
       "      <td>4.0</td>\n",
       "      <td>520.0</td>\n",
       "      <td>1</td>\n",
       "      <td>0</td>\n",
       "      <td>0</td>\n",
       "      <td>1</td>\n",
       "      <td>1</td>\n",
       "    </tr>\n",
       "  </tbody>\n",
       "</table>\n",
       "</div>"
      ],
      "text/plain": [
       "       surface_covered_in_m2  rooms  surface_covered_in_m2 * rooms  balcon  \\\n",
       "29714                   41.0    1.0                           41.0       0   \n",
       "37420                   44.0    1.0                           44.0       0   \n",
       "32184                  158.0    4.0                          632.0       1   \n",
       "38103                   46.0    2.0                           92.0       0   \n",
       "7713                   130.0    4.0                          520.0       1   \n",
       "\n",
       "       centrico  torre  Cochera  Amenities  \n",
       "29714         0      0        0          1  \n",
       "37420         0      0        0          0  \n",
       "32184         0      0        1          0  \n",
       "38103         1      0        0          1  \n",
       "7713          0      0        1          1  "
      ]
     },
     "execution_count": 7,
     "metadata": {},
     "output_type": "execute_result"
    }
   ],
   "source": [
    "# Primero, dividimos el dataser en training/validacion y test\n",
    "X_train, X_test, y_train, y_test = train_test_split(X, y, test_size=0.20, random_state=123)\n",
    "print(X_train.shape, y_train.shape)\n",
    "print(X_test.shape, y_test.shape)\n",
    "\n",
    "# habia pensado en separar el Xtest e ytest, pero como la funcion esta inicializada siempre da el mismo random, entonces\n",
    "# no mete el test en el training generando overfiting\n",
    "X_test.head()"
   ]
  },
  {
   "cell_type": "code",
   "execution_count": 8,
   "metadata": {},
   "outputs": [],
   "source": [
    "# Ahora bien, vamos a realizar el proceso de tunning de los hiperparámetros de los modelos en base a validación cruzada.\n",
    "# Por eso, instanciamos previamente tres objetos:\n",
    "al_ridge = np.linspace(0.001, 0.5, 500)  \n",
    "al_lasso = np.linspace(0.001, 0.5, 500)\n",
    "kf = KFold(n_splits=5, shuffle=True)"
   ]
  },
  {
   "cell_type": "code",
   "execution_count": 9,
   "metadata": {},
   "outputs": [],
   "source": [
    "# Instanciamos los modelos:\n",
    "lm = LinearRegression()\n",
    "lm_ridge_cv= RidgeCV(alphas=al_ridge, cv=kf, normalize=True)\n",
    "lm_lasso_cv = LassoCV(alphas=al_lasso, cv=kf, normalize=True)\n",
    "elastic_net = linear_model.ElasticNet(alpha=0.5, normalize=True)"
   ]
  },
  {
   "cell_type": "code",
   "execution_count": 10,
   "metadata": {},
   "outputs": [
    {
     "data": {
      "text/plain": [
       "LinearRegression(copy_X=True, fit_intercept=True, n_jobs=None,\n",
       "         normalize=False)"
      ]
     },
     "execution_count": 10,
     "metadata": {},
     "output_type": "execute_result"
    }
   ],
   "source": [
    "# Hacemos los fits respectivos\n",
    "lm.fit(X_train, y_train)"
   ]
  },
  {
   "cell_type": "code",
   "execution_count": 11,
   "metadata": {},
   "outputs": [
    {
     "data": {
      "text/plain": [
       "RidgeCV(alphas=array([0.001, 0.002, ..., 0.499, 0.5  ]),\n",
       "    cv=KFold(n_splits=5, random_state=None, shuffle=True),\n",
       "    fit_intercept=True, gcv_mode=None, normalize=True, scoring=None,\n",
       "    store_cv_values=False)"
      ]
     },
     "execution_count": 11,
     "metadata": {},
     "output_type": "execute_result"
    }
   ],
   "source": [
    "lm_ridge_cv.fit(X_train, y_train)"
   ]
  },
  {
   "cell_type": "code",
   "execution_count": 12,
   "metadata": {},
   "outputs": [
    {
     "data": {
      "text/plain": [
       "LassoCV(alphas=array([0.001, 0.002, ..., 0.499, 0.5  ]), copy_X=True,\n",
       "    cv=KFold(n_splits=5, random_state=None, shuffle=True), eps=0.001,\n",
       "    fit_intercept=True, max_iter=1000, n_alphas=100, n_jobs=None,\n",
       "    normalize=True, positive=False, precompute='auto', random_state=None,\n",
       "    selection='cyclic', tol=0.0001, verbose=False)"
      ]
     },
     "execution_count": 12,
     "metadata": {},
     "output_type": "execute_result"
    }
   ],
   "source": [
    "lm_lasso_cv.fit(X_train, y_train)"
   ]
  },
  {
   "cell_type": "code",
   "execution_count": 13,
   "metadata": {},
   "outputs": [
    {
     "data": {
      "text/plain": [
       "ElasticNet(alpha=0.5, copy_X=True, fit_intercept=True, l1_ratio=0.5,\n",
       "      max_iter=1000, normalize=True, positive=False, precompute=False,\n",
       "      random_state=None, selection='cyclic', tol=0.0001, warm_start=False)"
      ]
     },
     "execution_count": 13,
     "metadata": {},
     "output_type": "execute_result"
    }
   ],
   "source": [
    "elastic_net.fit(X_train, y_train)"
   ]
  },
  {
   "cell_type": "code",
   "execution_count": 14,
   "metadata": {},
   "outputs": [
    {
     "name": "stdout",
     "output_type": "stream",
     "text": [
      " Score Train Lineal: 0.74\n",
      " Score Train Ridge : 0.74\n",
      " Score Train Lasso : 0.74\n",
      " Score Train Elastic : 0.00\n",
      "\n",
      " Train RMSE lineal   : 77644.64 \n",
      " Train RMSE Ridge    : 77645.01 \n",
      " Train RMSE Lasso    : 77644.65 \n",
      " Train RMSE Elastic    : 152085.93 \n",
      "\n"
     ]
    }
   ],
   "source": [
    "# Calculamos el R2 y el RMSE para ver la performance tiene cada modelo en el Training Set \n",
    "\n",
    "print(\" Score Train Lineal: %.2f\\n\" % lm.score(X_train, y_train),\n",
    "      \"Score Train Ridge : %.2f\\n\" % lm_ridge_cv.score(X_train, y_train),\n",
    "      \"Score Train Lasso : %.2f\\n\" %  lm_lasso_cv.score(X_train, y_train),\n",
    "      \"Score Train Elastic : %.2f\\n\" % elastic_net.score(X_train, y_train))\n",
    "\n",
    "y_pred_tr_lm = lm.predict(X_train)\n",
    "y_pred_tr_ridge = lm_ridge_cv.predict(X_train)\n",
    "y_pred_tr_lasso = lm_lasso_cv.predict(X_train)\n",
    "y_pred_tr_elast = elastic_net.predict(X_train)\n",
    "\n",
    "rmse = lambda y, y_pred: np.sqrt(mean_squared_error(y, y_pred))\n",
    "\n",
    "print(\" Train RMSE lineal   : %.2f \\n\" % rmse(y_train,y_pred_tr_lm),\n",
    "      \"Train RMSE Ridge    : %.2f \\n\" % rmse(y_train,y_pred_tr_ridge),\n",
    "      \"Train RMSE Lasso    : %.2f \\n\" % rmse(y_train,y_pred_tr_lasso),\n",
    "     \"Train RMSE Elastic    : %.2f \\n\" % rmse(y_train,y_pred_tr_elast))"
   ]
  },
  {
   "cell_type": "code",
   "execution_count": 15,
   "metadata": {},
   "outputs": [
    {
     "name": "stdout",
     "output_type": "stream",
     "text": [
      " Score Test Lineal: 0.69\n",
      " Score Test Ridge : 0.69\n",
      " Score Test Lasso : 0.69\n",
      " Score Test Elastic : -0.00\n",
      "\n",
      " Test RMSE lineal= 76687.12\n",
      " Test RMSE Ridge = 76685.34\n",
      " Test RMSE Lasso = 76685.82\n",
      " Test RMSE Elastic = 137357.83\n",
      "\n"
     ]
    }
   ],
   "source": [
    "# Lo único que queda es evaluar la performance del modelo. \n",
    "# Para ello debemos usar datos que no hayan formado parte del proceso de entrenamiento anterior.\n",
    "# Entonces usamos el Test Set. \n",
    "# Hacemos las predicciones sobre la matriz de predictores del Test Set\n",
    "\n",
    "y_pred_lm = lm.predict(X_test)\n",
    "y_pred_ridge = lm_ridge_cv.predict(X_test)\n",
    "y_pred_lasso = lm_lasso_cv.predict(X_test)\n",
    "y_pred_elast = elastic_net.predict(X_test)\n",
    "\n",
    "print(\" Score Test Lineal: %.2f\\n\" % lm.score(X_test, y_test),\n",
    "      \"Score Test Ridge : %.2f\\n\" % lm_ridge_cv.score(X_test, y_test),\n",
    "      \"Score Test Lasso : %.2f\\n\" %  lm_lasso_cv.score(X_test, y_test),\n",
    "      \"Score Test Elastic : %.2f\\n\" % elastic_net.score(X_test, y_test))\n",
    "\n",
    "# Testeo final del modelo sobre Test Set\n",
    "\n",
    "print(\" Test RMSE lineal= %.2f\\n\" % rmse(y_test, y_pred_lm),\n",
    "      \"Test RMSE Ridge = %.2f\\n\" %  rmse(y_test, y_pred_ridge),\n",
    "      \"Test RMSE Lasso = %.2f\\n\" %  rmse(y_test, y_pred_lasso),\n",
    "     \"Test RMSE Elastic = %.2f\\n\" % rmse(y_test,y_pred_elast))"
   ]
  },
  {
   "cell_type": "markdown",
   "metadata": {},
   "source": [
    "Para saber con cual me quedo, comparo los Score Train y Test, con sus respectivos RMSE"
   ]
  },
  {
   "cell_type": "markdown",
   "metadata": {},
   "source": [
    "## Regularización: Lasso"
   ]
  },
  {
   "cell_type": "code",
   "execution_count": 16,
   "metadata": {},
   "outputs": [
    {
     "data": {
      "text/plain": [
       "{'alpha': 30420.936233053784,\n",
       " 'scores': array([0.73055649, 0.70592506, 0.72014234, 0.72539332, 0.71011636]),\n",
       " 'mean_score': 0.7184267135361283,\n",
       " 'zero_coefs': 6}"
      ]
     },
     "execution_count": 16,
     "metadata": {},
     "output_type": "execute_result"
    }
   ],
   "source": [
    "model = linear_model.LassoCV(cv=3).fit(X_train, y_train)\n",
    "scores = cross_val_score(model, X_train, y_train, cv=kf, scoring='r2')\n",
    "dict(alpha=model.alpha_, scores=scores, mean_score=scores.mean(), zero_coefs=(model.coef_ == 0).sum())"
   ]
  },
  {
   "cell_type": "code",
   "execution_count": 17,
   "metadata": {},
   "outputs": [
    {
     "data": {
      "text/plain": [
       "{'alpha': 0.6447417603484233,\n",
       " 'scores': array([0.73594607, 0.73436481, 0.7336515 , 0.70395978, 0.73907445]),\n",
       " 'mean_score': 0.7293993204797456,\n",
       " 'zero_coefs': 0}"
      ]
     },
     "execution_count": 17,
     "metadata": {},
     "output_type": "execute_result"
    }
   ],
   "source": [
    "model = linear_model.LassoCV(cv=3, normalize=True).fit(X, y)\n",
    "scores = cross_val_score(model, X, y, cv=kf, scoring='r2')\n",
    "dict(alpha=model.alpha_, scores=scores, mean_score=scores.mean(), zero_coefs=(model.coef_ == 0).sum())"
   ]
  },
  {
   "cell_type": "code",
   "execution_count": 18,
   "metadata": {},
   "outputs": [
    {
     "data": {
      "text/plain": [
       "{'alpha': 0.1,\n",
       " 'scores': array([0.71312572, 0.73243474, 0.71624748, 0.71420711, 0.72268136]),\n",
       " 'mean_score': 0.7197392815281904}"
      ]
     },
     "execution_count": 18,
     "metadata": {},
     "output_type": "execute_result"
    }
   ],
   "source": [
    "model = linear_model.RidgeCV(normalize=True).fit(X, y)\n",
    "scores = cross_val_score(model, X, y, cv=kf, scoring='r2')\n",
    "dict(alpha=model.alpha_, scores=scores, mean_score=scores.mean())"
   ]
  }
 ],
 "metadata": {
  "kernelspec": {
   "display_name": "Python 3",
   "language": "python",
   "name": "python3"
  },
  "language_info": {
   "codemirror_mode": {
    "name": "ipython",
    "version": 3
   },
   "file_extension": ".py",
   "mimetype": "text/x-python",
   "name": "python",
   "nbconvert_exporter": "python",
   "pygments_lexer": "ipython3",
   "version": "3.7.3"
  }
 },
 "nbformat": 4,
 "nbformat_minor": 2
}
